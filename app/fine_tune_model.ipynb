{
 "cells": [
  {
   "cell_type": "code",
   "execution_count": null,
   "metadata": {},
   "outputs": [],
   "source": [
    "%pip install langchain_openai"
   ]
  },
  {
   "cell_type": "code",
   "execution_count": null,
   "metadata": {},
   "outputs": [],
   "source": [
    "%env OPENAI_API_KEY=<openai_api_key>\n",
    "%env LANGCHAIN_TRACING_V2=true\n",
    "%env LANGCHAIN_API_KEY=<langchain_api_key>\n",
    "%env OPENAI_ORG_ID=<org_id>"
   ]
  },
  {
   "cell_type": "code",
   "execution_count": 42,
   "metadata": {},
   "outputs": [],
   "source": [
    "from langsmith import Client\n",
    "from langsmith import schemas\n",
    "from langchain import load\n",
    "\n",
    "client = Client()"
   ]
  },
  {
   "cell_type": "markdown",
   "metadata": {},
   "source": [
    "# Create Dataset with the training data\n",
    "\n",
    "## Gather the LLM calls from LangSmith"
   ]
  },
  {
   "cell_type": "code",
   "execution_count": 31,
   "metadata": {},
   "outputs": [
    {
     "data": {
      "text/plain": [
       "60"
      ]
     },
     "execution_count": 31,
     "metadata": {},
     "output_type": "execute_result"
    }
   ],
   "source": [
    "\n",
    "import datetime\n",
    "\n",
    "project_name = \"fine-tuning-example\"\n",
    "run_type = \"llm\"\n",
    "end_time = datetime.datetime.now()\n",
    "\n",
    "runs = client.list_runs(\n",
    "    project_name=project_name,\n",
    "    run_type=run_type,\n",
    "    error=False,\n",
    ")\n",
    "\n",
    "llm_runs = []\n",
    "for run in runs:\n",
    "    llm_runs.append(run)\n",
    "\n",
    "training_data = llm_runs[:60] # Gets just the last 60, which should be all our data\n",
    "len(training_data)"
   ]
  },
  {
   "cell_type": "code",
   "execution_count": 32,
   "metadata": {},
   "outputs": [
    {
     "data": {
      "text/plain": [
       "60"
      ]
     },
     "execution_count": 32,
     "metadata": {},
     "output_type": "execute_result"
    }
   ],
   "source": [
    "\n",
    "import datetime\n",
    "\n",
    "project_name = \"fine-tuning-example\"\n",
    "run_type = \"llm\"\n",
    "end_time = datetime.datetime.now()\n",
    "\n",
    "runs = client.list_runs(\n",
    "    project_name=project_name,\n",
    "    run_type=run_type,\n",
    "    error=False,\n",
    ")\n",
    "\n",
    "llm_runs = []\n",
    "for run in runs:\n",
    "    llm_runs.append(run)\n",
    "\n",
    "training_data = llm_runs[:60] # Gets just the last 60, which should be all our data\n",
    "len(training_data)"
   ]
  },
  {
   "cell_type": "markdown",
   "metadata": {},
   "source": [
    "## Create the Dataset"
   ]
  },
  {
   "cell_type": "code",
   "execution_count": 41,
   "metadata": {},
   "outputs": [
    {
     "ename": "ConnectionError",
     "evalue": "('Connection aborted.', RemoteDisconnected('Remote end closed connection without response'))",
     "output_type": "error",
     "traceback": [
      "\u001b[0;31m---------------------------------------------------------------------------\u001b[0m",
      "\u001b[0;31mRemoteDisconnected\u001b[0m                        Traceback (most recent call last)",
      "File \u001b[0;32m/Library/Frameworks/Python.framework/Versions/3.12/lib/python3.12/site-packages/urllib3/connectionpool.py:793\u001b[0m, in \u001b[0;36mHTTPConnectionPool.urlopen\u001b[0;34m(self, method, url, body, headers, retries, redirect, assert_same_host, timeout, pool_timeout, release_conn, chunked, body_pos, preload_content, decode_content, **response_kw)\u001b[0m\n\u001b[1;32m    792\u001b[0m \u001b[38;5;66;03m# Make the request on the HTTPConnection object\u001b[39;00m\n\u001b[0;32m--> 793\u001b[0m response \u001b[38;5;241m=\u001b[39m \u001b[38;5;28;43mself\u001b[39;49m\u001b[38;5;241;43m.\u001b[39;49m\u001b[43m_make_request\u001b[49m\u001b[43m(\u001b[49m\n\u001b[1;32m    794\u001b[0m \u001b[43m    \u001b[49m\u001b[43mconn\u001b[49m\u001b[43m,\u001b[49m\n\u001b[1;32m    795\u001b[0m \u001b[43m    \u001b[49m\u001b[43mmethod\u001b[49m\u001b[43m,\u001b[49m\n\u001b[1;32m    796\u001b[0m \u001b[43m    \u001b[49m\u001b[43murl\u001b[49m\u001b[43m,\u001b[49m\n\u001b[1;32m    797\u001b[0m \u001b[43m    \u001b[49m\u001b[43mtimeout\u001b[49m\u001b[38;5;241;43m=\u001b[39;49m\u001b[43mtimeout_obj\u001b[49m\u001b[43m,\u001b[49m\n\u001b[1;32m    798\u001b[0m \u001b[43m    \u001b[49m\u001b[43mbody\u001b[49m\u001b[38;5;241;43m=\u001b[39;49m\u001b[43mbody\u001b[49m\u001b[43m,\u001b[49m\n\u001b[1;32m    799\u001b[0m \u001b[43m    \u001b[49m\u001b[43mheaders\u001b[49m\u001b[38;5;241;43m=\u001b[39;49m\u001b[43mheaders\u001b[49m\u001b[43m,\u001b[49m\n\u001b[1;32m    800\u001b[0m \u001b[43m    \u001b[49m\u001b[43mchunked\u001b[49m\u001b[38;5;241;43m=\u001b[39;49m\u001b[43mchunked\u001b[49m\u001b[43m,\u001b[49m\n\u001b[1;32m    801\u001b[0m \u001b[43m    \u001b[49m\u001b[43mretries\u001b[49m\u001b[38;5;241;43m=\u001b[39;49m\u001b[43mretries\u001b[49m\u001b[43m,\u001b[49m\n\u001b[1;32m    802\u001b[0m \u001b[43m    \u001b[49m\u001b[43mresponse_conn\u001b[49m\u001b[38;5;241;43m=\u001b[39;49m\u001b[43mresponse_conn\u001b[49m\u001b[43m,\u001b[49m\n\u001b[1;32m    803\u001b[0m \u001b[43m    \u001b[49m\u001b[43mpreload_content\u001b[49m\u001b[38;5;241;43m=\u001b[39;49m\u001b[43mpreload_content\u001b[49m\u001b[43m,\u001b[49m\n\u001b[1;32m    804\u001b[0m \u001b[43m    \u001b[49m\u001b[43mdecode_content\u001b[49m\u001b[38;5;241;43m=\u001b[39;49m\u001b[43mdecode_content\u001b[49m\u001b[43m,\u001b[49m\n\u001b[1;32m    805\u001b[0m \u001b[43m    \u001b[49m\u001b[38;5;241;43m*\u001b[39;49m\u001b[38;5;241;43m*\u001b[39;49m\u001b[43mresponse_kw\u001b[49m\u001b[43m,\u001b[49m\n\u001b[1;32m    806\u001b[0m \u001b[43m\u001b[49m\u001b[43m)\u001b[49m\n\u001b[1;32m    808\u001b[0m \u001b[38;5;66;03m# Everything went great!\u001b[39;00m\n",
      "File \u001b[0;32m/Library/Frameworks/Python.framework/Versions/3.12/lib/python3.12/site-packages/urllib3/connectionpool.py:537\u001b[0m, in \u001b[0;36mHTTPConnectionPool._make_request\u001b[0;34m(self, conn, method, url, body, headers, retries, timeout, chunked, response_conn, preload_content, decode_content, enforce_content_length)\u001b[0m\n\u001b[1;32m    536\u001b[0m \u001b[38;5;28;01mtry\u001b[39;00m:\n\u001b[0;32m--> 537\u001b[0m     response \u001b[38;5;241m=\u001b[39m \u001b[43mconn\u001b[49m\u001b[38;5;241;43m.\u001b[39;49m\u001b[43mgetresponse\u001b[49m\u001b[43m(\u001b[49m\u001b[43m)\u001b[49m\n\u001b[1;32m    538\u001b[0m \u001b[38;5;28;01mexcept\u001b[39;00m (BaseSSLError, \u001b[38;5;167;01mOSError\u001b[39;00m) \u001b[38;5;28;01mas\u001b[39;00m e:\n",
      "File \u001b[0;32m/Library/Frameworks/Python.framework/Versions/3.12/lib/python3.12/site-packages/urllib3/connection.py:466\u001b[0m, in \u001b[0;36mHTTPConnection.getresponse\u001b[0;34m(self)\u001b[0m\n\u001b[1;32m    465\u001b[0m \u001b[38;5;66;03m# Get the response from http.client.HTTPConnection\u001b[39;00m\n\u001b[0;32m--> 466\u001b[0m httplib_response \u001b[38;5;241m=\u001b[39m \u001b[38;5;28;43msuper\u001b[39;49m\u001b[43m(\u001b[49m\u001b[43m)\u001b[49m\u001b[38;5;241;43m.\u001b[39;49m\u001b[43mgetresponse\u001b[49m\u001b[43m(\u001b[49m\u001b[43m)\u001b[49m\n\u001b[1;32m    468\u001b[0m \u001b[38;5;28;01mtry\u001b[39;00m:\n",
      "File \u001b[0;32m/Library/Frameworks/Python.framework/Versions/3.12/lib/python3.12/http/client.py:1423\u001b[0m, in \u001b[0;36mHTTPConnection.getresponse\u001b[0;34m(self)\u001b[0m\n\u001b[1;32m   1422\u001b[0m \u001b[38;5;28;01mtry\u001b[39;00m:\n\u001b[0;32m-> 1423\u001b[0m     \u001b[43mresponse\u001b[49m\u001b[38;5;241;43m.\u001b[39;49m\u001b[43mbegin\u001b[49m\u001b[43m(\u001b[49m\u001b[43m)\u001b[49m\n\u001b[1;32m   1424\u001b[0m \u001b[38;5;28;01mexcept\u001b[39;00m \u001b[38;5;167;01mConnectionError\u001b[39;00m:\n",
      "File \u001b[0;32m/Library/Frameworks/Python.framework/Versions/3.12/lib/python3.12/http/client.py:331\u001b[0m, in \u001b[0;36mHTTPResponse.begin\u001b[0;34m(self)\u001b[0m\n\u001b[1;32m    330\u001b[0m \u001b[38;5;28;01mwhile\u001b[39;00m \u001b[38;5;28;01mTrue\u001b[39;00m:\n\u001b[0;32m--> 331\u001b[0m     version, status, reason \u001b[38;5;241m=\u001b[39m \u001b[38;5;28;43mself\u001b[39;49m\u001b[38;5;241;43m.\u001b[39;49m\u001b[43m_read_status\u001b[49m\u001b[43m(\u001b[49m\u001b[43m)\u001b[49m\n\u001b[1;32m    332\u001b[0m     \u001b[38;5;28;01mif\u001b[39;00m status \u001b[38;5;241m!=\u001b[39m CONTINUE:\n",
      "File \u001b[0;32m/Library/Frameworks/Python.framework/Versions/3.12/lib/python3.12/http/client.py:300\u001b[0m, in \u001b[0;36mHTTPResponse._read_status\u001b[0;34m(self)\u001b[0m\n\u001b[1;32m    297\u001b[0m \u001b[38;5;28;01mif\u001b[39;00m \u001b[38;5;129;01mnot\u001b[39;00m line:\n\u001b[1;32m    298\u001b[0m     \u001b[38;5;66;03m# Presumably, the server closed the connection before\u001b[39;00m\n\u001b[1;32m    299\u001b[0m     \u001b[38;5;66;03m# sending a valid response.\u001b[39;00m\n\u001b[0;32m--> 300\u001b[0m     \u001b[38;5;28;01mraise\u001b[39;00m RemoteDisconnected(\u001b[38;5;124m\"\u001b[39m\u001b[38;5;124mRemote end closed connection without\u001b[39m\u001b[38;5;124m\"\u001b[39m\n\u001b[1;32m    301\u001b[0m                              \u001b[38;5;124m\"\u001b[39m\u001b[38;5;124m response\u001b[39m\u001b[38;5;124m\"\u001b[39m)\n\u001b[1;32m    302\u001b[0m \u001b[38;5;28;01mtry\u001b[39;00m:\n",
      "\u001b[0;31mRemoteDisconnected\u001b[0m: Remote end closed connection without response",
      "\nDuring handling of the above exception, another exception occurred:\n",
      "\u001b[0;31mProtocolError\u001b[0m                             Traceback (most recent call last)",
      "File \u001b[0;32m/Library/Frameworks/Python.framework/Versions/3.12/lib/python3.12/site-packages/requests/adapters.py:486\u001b[0m, in \u001b[0;36mHTTPAdapter.send\u001b[0;34m(self, request, stream, timeout, verify, cert, proxies)\u001b[0m\n\u001b[1;32m    485\u001b[0m \u001b[38;5;28;01mtry\u001b[39;00m:\n\u001b[0;32m--> 486\u001b[0m     resp \u001b[38;5;241m=\u001b[39m \u001b[43mconn\u001b[49m\u001b[38;5;241;43m.\u001b[39;49m\u001b[43murlopen\u001b[49m\u001b[43m(\u001b[49m\n\u001b[1;32m    487\u001b[0m \u001b[43m        \u001b[49m\u001b[43mmethod\u001b[49m\u001b[38;5;241;43m=\u001b[39;49m\u001b[43mrequest\u001b[49m\u001b[38;5;241;43m.\u001b[39;49m\u001b[43mmethod\u001b[49m\u001b[43m,\u001b[49m\n\u001b[1;32m    488\u001b[0m \u001b[43m        \u001b[49m\u001b[43murl\u001b[49m\u001b[38;5;241;43m=\u001b[39;49m\u001b[43murl\u001b[49m\u001b[43m,\u001b[49m\n\u001b[1;32m    489\u001b[0m \u001b[43m        \u001b[49m\u001b[43mbody\u001b[49m\u001b[38;5;241;43m=\u001b[39;49m\u001b[43mrequest\u001b[49m\u001b[38;5;241;43m.\u001b[39;49m\u001b[43mbody\u001b[49m\u001b[43m,\u001b[49m\n\u001b[1;32m    490\u001b[0m \u001b[43m        \u001b[49m\u001b[43mheaders\u001b[49m\u001b[38;5;241;43m=\u001b[39;49m\u001b[43mrequest\u001b[49m\u001b[38;5;241;43m.\u001b[39;49m\u001b[43mheaders\u001b[49m\u001b[43m,\u001b[49m\n\u001b[1;32m    491\u001b[0m \u001b[43m        \u001b[49m\u001b[43mredirect\u001b[49m\u001b[38;5;241;43m=\u001b[39;49m\u001b[38;5;28;43;01mFalse\u001b[39;49;00m\u001b[43m,\u001b[49m\n\u001b[1;32m    492\u001b[0m \u001b[43m        \u001b[49m\u001b[43massert_same_host\u001b[49m\u001b[38;5;241;43m=\u001b[39;49m\u001b[38;5;28;43;01mFalse\u001b[39;49;00m\u001b[43m,\u001b[49m\n\u001b[1;32m    493\u001b[0m \u001b[43m        \u001b[49m\u001b[43mpreload_content\u001b[49m\u001b[38;5;241;43m=\u001b[39;49m\u001b[38;5;28;43;01mFalse\u001b[39;49;00m\u001b[43m,\u001b[49m\n\u001b[1;32m    494\u001b[0m \u001b[43m        \u001b[49m\u001b[43mdecode_content\u001b[49m\u001b[38;5;241;43m=\u001b[39;49m\u001b[38;5;28;43;01mFalse\u001b[39;49;00m\u001b[43m,\u001b[49m\n\u001b[1;32m    495\u001b[0m \u001b[43m        \u001b[49m\u001b[43mretries\u001b[49m\u001b[38;5;241;43m=\u001b[39;49m\u001b[38;5;28;43mself\u001b[39;49m\u001b[38;5;241;43m.\u001b[39;49m\u001b[43mmax_retries\u001b[49m\u001b[43m,\u001b[49m\n\u001b[1;32m    496\u001b[0m \u001b[43m        \u001b[49m\u001b[43mtimeout\u001b[49m\u001b[38;5;241;43m=\u001b[39;49m\u001b[43mtimeout\u001b[49m\u001b[43m,\u001b[49m\n\u001b[1;32m    497\u001b[0m \u001b[43m        \u001b[49m\u001b[43mchunked\u001b[49m\u001b[38;5;241;43m=\u001b[39;49m\u001b[43mchunked\u001b[49m\u001b[43m,\u001b[49m\n\u001b[1;32m    498\u001b[0m \u001b[43m    \u001b[49m\u001b[43m)\u001b[49m\n\u001b[1;32m    500\u001b[0m \u001b[38;5;28;01mexcept\u001b[39;00m (ProtocolError, \u001b[38;5;167;01mOSError\u001b[39;00m) \u001b[38;5;28;01mas\u001b[39;00m err:\n",
      "File \u001b[0;32m/Library/Frameworks/Python.framework/Versions/3.12/lib/python3.12/site-packages/urllib3/connectionpool.py:847\u001b[0m, in \u001b[0;36mHTTPConnectionPool.urlopen\u001b[0;34m(self, method, url, body, headers, retries, redirect, assert_same_host, timeout, pool_timeout, release_conn, chunked, body_pos, preload_content, decode_content, **response_kw)\u001b[0m\n\u001b[1;32m    845\u001b[0m     new_e \u001b[38;5;241m=\u001b[39m ProtocolError(\u001b[38;5;124m\"\u001b[39m\u001b[38;5;124mConnection aborted.\u001b[39m\u001b[38;5;124m\"\u001b[39m, new_e)\n\u001b[0;32m--> 847\u001b[0m retries \u001b[38;5;241m=\u001b[39m \u001b[43mretries\u001b[49m\u001b[38;5;241;43m.\u001b[39;49m\u001b[43mincrement\u001b[49m\u001b[43m(\u001b[49m\n\u001b[1;32m    848\u001b[0m \u001b[43m    \u001b[49m\u001b[43mmethod\u001b[49m\u001b[43m,\u001b[49m\u001b[43m \u001b[49m\u001b[43murl\u001b[49m\u001b[43m,\u001b[49m\u001b[43m \u001b[49m\u001b[43merror\u001b[49m\u001b[38;5;241;43m=\u001b[39;49m\u001b[43mnew_e\u001b[49m\u001b[43m,\u001b[49m\u001b[43m \u001b[49m\u001b[43m_pool\u001b[49m\u001b[38;5;241;43m=\u001b[39;49m\u001b[38;5;28;43mself\u001b[39;49m\u001b[43m,\u001b[49m\u001b[43m \u001b[49m\u001b[43m_stacktrace\u001b[49m\u001b[38;5;241;43m=\u001b[39;49m\u001b[43msys\u001b[49m\u001b[38;5;241;43m.\u001b[39;49m\u001b[43mexc_info\u001b[49m\u001b[43m(\u001b[49m\u001b[43m)\u001b[49m\u001b[43m[\u001b[49m\u001b[38;5;241;43m2\u001b[39;49m\u001b[43m]\u001b[49m\n\u001b[1;32m    849\u001b[0m \u001b[43m\u001b[49m\u001b[43m)\u001b[49m\n\u001b[1;32m    850\u001b[0m retries\u001b[38;5;241m.\u001b[39msleep()\n",
      "File \u001b[0;32m/Library/Frameworks/Python.framework/Versions/3.12/lib/python3.12/site-packages/urllib3/util/retry.py:470\u001b[0m, in \u001b[0;36mRetry.increment\u001b[0;34m(self, method, url, response, error, _pool, _stacktrace)\u001b[0m\n\u001b[1;32m    469\u001b[0m \u001b[38;5;28;01mif\u001b[39;00m read \u001b[38;5;129;01mis\u001b[39;00m \u001b[38;5;28;01mFalse\u001b[39;00m \u001b[38;5;129;01mor\u001b[39;00m method \u001b[38;5;129;01mis\u001b[39;00m \u001b[38;5;28;01mNone\u001b[39;00m \u001b[38;5;129;01mor\u001b[39;00m \u001b[38;5;129;01mnot\u001b[39;00m \u001b[38;5;28mself\u001b[39m\u001b[38;5;241m.\u001b[39m_is_method_retryable(method):\n\u001b[0;32m--> 470\u001b[0m     \u001b[38;5;28;01mraise\u001b[39;00m \u001b[43mreraise\u001b[49m\u001b[43m(\u001b[49m\u001b[38;5;28;43mtype\u001b[39;49m\u001b[43m(\u001b[49m\u001b[43merror\u001b[49m\u001b[43m)\u001b[49m\u001b[43m,\u001b[49m\u001b[43m \u001b[49m\u001b[43merror\u001b[49m\u001b[43m,\u001b[49m\u001b[43m \u001b[49m\u001b[43m_stacktrace\u001b[49m\u001b[43m)\u001b[49m\n\u001b[1;32m    471\u001b[0m \u001b[38;5;28;01melif\u001b[39;00m read \u001b[38;5;129;01mis\u001b[39;00m \u001b[38;5;129;01mnot\u001b[39;00m \u001b[38;5;28;01mNone\u001b[39;00m:\n",
      "File \u001b[0;32m/Library/Frameworks/Python.framework/Versions/3.12/lib/python3.12/site-packages/urllib3/util/util.py:38\u001b[0m, in \u001b[0;36mreraise\u001b[0;34m(tp, value, tb)\u001b[0m\n\u001b[1;32m     37\u001b[0m \u001b[38;5;28;01mif\u001b[39;00m value\u001b[38;5;241m.\u001b[39m__traceback__ \u001b[38;5;129;01mis\u001b[39;00m \u001b[38;5;129;01mnot\u001b[39;00m tb:\n\u001b[0;32m---> 38\u001b[0m     \u001b[38;5;28;01mraise\u001b[39;00m value\u001b[38;5;241m.\u001b[39mwith_traceback(tb)\n\u001b[1;32m     39\u001b[0m \u001b[38;5;28;01mraise\u001b[39;00m value\n",
      "File \u001b[0;32m/Library/Frameworks/Python.framework/Versions/3.12/lib/python3.12/site-packages/urllib3/connectionpool.py:793\u001b[0m, in \u001b[0;36mHTTPConnectionPool.urlopen\u001b[0;34m(self, method, url, body, headers, retries, redirect, assert_same_host, timeout, pool_timeout, release_conn, chunked, body_pos, preload_content, decode_content, **response_kw)\u001b[0m\n\u001b[1;32m    792\u001b[0m \u001b[38;5;66;03m# Make the request on the HTTPConnection object\u001b[39;00m\n\u001b[0;32m--> 793\u001b[0m response \u001b[38;5;241m=\u001b[39m \u001b[38;5;28;43mself\u001b[39;49m\u001b[38;5;241;43m.\u001b[39;49m\u001b[43m_make_request\u001b[49m\u001b[43m(\u001b[49m\n\u001b[1;32m    794\u001b[0m \u001b[43m    \u001b[49m\u001b[43mconn\u001b[49m\u001b[43m,\u001b[49m\n\u001b[1;32m    795\u001b[0m \u001b[43m    \u001b[49m\u001b[43mmethod\u001b[49m\u001b[43m,\u001b[49m\n\u001b[1;32m    796\u001b[0m \u001b[43m    \u001b[49m\u001b[43murl\u001b[49m\u001b[43m,\u001b[49m\n\u001b[1;32m    797\u001b[0m \u001b[43m    \u001b[49m\u001b[43mtimeout\u001b[49m\u001b[38;5;241;43m=\u001b[39;49m\u001b[43mtimeout_obj\u001b[49m\u001b[43m,\u001b[49m\n\u001b[1;32m    798\u001b[0m \u001b[43m    \u001b[49m\u001b[43mbody\u001b[49m\u001b[38;5;241;43m=\u001b[39;49m\u001b[43mbody\u001b[49m\u001b[43m,\u001b[49m\n\u001b[1;32m    799\u001b[0m \u001b[43m    \u001b[49m\u001b[43mheaders\u001b[49m\u001b[38;5;241;43m=\u001b[39;49m\u001b[43mheaders\u001b[49m\u001b[43m,\u001b[49m\n\u001b[1;32m    800\u001b[0m \u001b[43m    \u001b[49m\u001b[43mchunked\u001b[49m\u001b[38;5;241;43m=\u001b[39;49m\u001b[43mchunked\u001b[49m\u001b[43m,\u001b[49m\n\u001b[1;32m    801\u001b[0m \u001b[43m    \u001b[49m\u001b[43mretries\u001b[49m\u001b[38;5;241;43m=\u001b[39;49m\u001b[43mretries\u001b[49m\u001b[43m,\u001b[49m\n\u001b[1;32m    802\u001b[0m \u001b[43m    \u001b[49m\u001b[43mresponse_conn\u001b[49m\u001b[38;5;241;43m=\u001b[39;49m\u001b[43mresponse_conn\u001b[49m\u001b[43m,\u001b[49m\n\u001b[1;32m    803\u001b[0m \u001b[43m    \u001b[49m\u001b[43mpreload_content\u001b[49m\u001b[38;5;241;43m=\u001b[39;49m\u001b[43mpreload_content\u001b[49m\u001b[43m,\u001b[49m\n\u001b[1;32m    804\u001b[0m \u001b[43m    \u001b[49m\u001b[43mdecode_content\u001b[49m\u001b[38;5;241;43m=\u001b[39;49m\u001b[43mdecode_content\u001b[49m\u001b[43m,\u001b[49m\n\u001b[1;32m    805\u001b[0m \u001b[43m    \u001b[49m\u001b[38;5;241;43m*\u001b[39;49m\u001b[38;5;241;43m*\u001b[39;49m\u001b[43mresponse_kw\u001b[49m\u001b[43m,\u001b[49m\n\u001b[1;32m    806\u001b[0m \u001b[43m\u001b[49m\u001b[43m)\u001b[49m\n\u001b[1;32m    808\u001b[0m \u001b[38;5;66;03m# Everything went great!\u001b[39;00m\n",
      "File \u001b[0;32m/Library/Frameworks/Python.framework/Versions/3.12/lib/python3.12/site-packages/urllib3/connectionpool.py:537\u001b[0m, in \u001b[0;36mHTTPConnectionPool._make_request\u001b[0;34m(self, conn, method, url, body, headers, retries, timeout, chunked, response_conn, preload_content, decode_content, enforce_content_length)\u001b[0m\n\u001b[1;32m    536\u001b[0m \u001b[38;5;28;01mtry\u001b[39;00m:\n\u001b[0;32m--> 537\u001b[0m     response \u001b[38;5;241m=\u001b[39m \u001b[43mconn\u001b[49m\u001b[38;5;241;43m.\u001b[39;49m\u001b[43mgetresponse\u001b[49m\u001b[43m(\u001b[49m\u001b[43m)\u001b[49m\n\u001b[1;32m    538\u001b[0m \u001b[38;5;28;01mexcept\u001b[39;00m (BaseSSLError, \u001b[38;5;167;01mOSError\u001b[39;00m) \u001b[38;5;28;01mas\u001b[39;00m e:\n",
      "File \u001b[0;32m/Library/Frameworks/Python.framework/Versions/3.12/lib/python3.12/site-packages/urllib3/connection.py:466\u001b[0m, in \u001b[0;36mHTTPConnection.getresponse\u001b[0;34m(self)\u001b[0m\n\u001b[1;32m    465\u001b[0m \u001b[38;5;66;03m# Get the response from http.client.HTTPConnection\u001b[39;00m\n\u001b[0;32m--> 466\u001b[0m httplib_response \u001b[38;5;241m=\u001b[39m \u001b[38;5;28;43msuper\u001b[39;49m\u001b[43m(\u001b[49m\u001b[43m)\u001b[49m\u001b[38;5;241;43m.\u001b[39;49m\u001b[43mgetresponse\u001b[49m\u001b[43m(\u001b[49m\u001b[43m)\u001b[49m\n\u001b[1;32m    468\u001b[0m \u001b[38;5;28;01mtry\u001b[39;00m:\n",
      "File \u001b[0;32m/Library/Frameworks/Python.framework/Versions/3.12/lib/python3.12/http/client.py:1423\u001b[0m, in \u001b[0;36mHTTPConnection.getresponse\u001b[0;34m(self)\u001b[0m\n\u001b[1;32m   1422\u001b[0m \u001b[38;5;28;01mtry\u001b[39;00m:\n\u001b[0;32m-> 1423\u001b[0m     \u001b[43mresponse\u001b[49m\u001b[38;5;241;43m.\u001b[39;49m\u001b[43mbegin\u001b[49m\u001b[43m(\u001b[49m\u001b[43m)\u001b[49m\n\u001b[1;32m   1424\u001b[0m \u001b[38;5;28;01mexcept\u001b[39;00m \u001b[38;5;167;01mConnectionError\u001b[39;00m:\n",
      "File \u001b[0;32m/Library/Frameworks/Python.framework/Versions/3.12/lib/python3.12/http/client.py:331\u001b[0m, in \u001b[0;36mHTTPResponse.begin\u001b[0;34m(self)\u001b[0m\n\u001b[1;32m    330\u001b[0m \u001b[38;5;28;01mwhile\u001b[39;00m \u001b[38;5;28;01mTrue\u001b[39;00m:\n\u001b[0;32m--> 331\u001b[0m     version, status, reason \u001b[38;5;241m=\u001b[39m \u001b[38;5;28;43mself\u001b[39;49m\u001b[38;5;241;43m.\u001b[39;49m\u001b[43m_read_status\u001b[49m\u001b[43m(\u001b[49m\u001b[43m)\u001b[49m\n\u001b[1;32m    332\u001b[0m     \u001b[38;5;28;01mif\u001b[39;00m status \u001b[38;5;241m!=\u001b[39m CONTINUE:\n",
      "File \u001b[0;32m/Library/Frameworks/Python.framework/Versions/3.12/lib/python3.12/http/client.py:300\u001b[0m, in \u001b[0;36mHTTPResponse._read_status\u001b[0;34m(self)\u001b[0m\n\u001b[1;32m    297\u001b[0m \u001b[38;5;28;01mif\u001b[39;00m \u001b[38;5;129;01mnot\u001b[39;00m line:\n\u001b[1;32m    298\u001b[0m     \u001b[38;5;66;03m# Presumably, the server closed the connection before\u001b[39;00m\n\u001b[1;32m    299\u001b[0m     \u001b[38;5;66;03m# sending a valid response.\u001b[39;00m\n\u001b[0;32m--> 300\u001b[0m     \u001b[38;5;28;01mraise\u001b[39;00m RemoteDisconnected(\u001b[38;5;124m\"\u001b[39m\u001b[38;5;124mRemote end closed connection without\u001b[39m\u001b[38;5;124m\"\u001b[39m\n\u001b[1;32m    301\u001b[0m                              \u001b[38;5;124m\"\u001b[39m\u001b[38;5;124m response\u001b[39m\u001b[38;5;124m\"\u001b[39m)\n\u001b[1;32m    302\u001b[0m \u001b[38;5;28;01mtry\u001b[39;00m:\n",
      "\u001b[0;31mProtocolError\u001b[0m: ('Connection aborted.', RemoteDisconnected('Remote end closed connection without response'))",
      "\nDuring handling of the above exception, another exception occurred:\n",
      "\u001b[0;31mConnectionError\u001b[0m                           Traceback (most recent call last)",
      "Cell \u001b[0;32mIn[41], line 2\u001b[0m\n\u001b[1;32m      1\u001b[0m dataset_name\u001b[38;5;241m=\u001b[39m\u001b[38;5;124m\"\u001b[39m\u001b[38;5;124mFine-Tuning Dataset Example\u001b[39m\u001b[38;5;124m\"\u001b[39m\n\u001b[0;32m----> 2\u001b[0m dataset \u001b[38;5;241m=\u001b[39m \u001b[43mclient\u001b[49m\u001b[38;5;241;43m.\u001b[39;49m\u001b[43mcreate_dataset\u001b[49m\u001b[43m(\u001b[49m\n\u001b[1;32m      3\u001b[0m \u001b[43m    \u001b[49m\u001b[43mdataset_name\u001b[49m\u001b[38;5;241;43m=\u001b[39;49m\u001b[43mdataset_name\u001b[49m\u001b[43m,\u001b[49m\n\u001b[1;32m      4\u001b[0m \u001b[43m    \u001b[49m\u001b[43mdescription\u001b[49m\u001b[38;5;241;43m=\u001b[39;49m\u001b[38;5;124;43mf\u001b[39;49m\u001b[38;5;124;43m\"\u001b[39;49m\u001b[38;5;124;43mChat logs taken from project \u001b[39;49m\u001b[38;5;132;43;01m{\u001b[39;49;00m\u001b[43mproject_name\u001b[49m\u001b[38;5;132;43;01m}\u001b[39;49;00m\u001b[38;5;124;43m for fine-tuning\u001b[39;49m\u001b[38;5;124;43m\"\u001b[39;49m\u001b[43m,\u001b[49m\n\u001b[1;32m      5\u001b[0m \u001b[43m    \u001b[49m\u001b[43mdata_type\u001b[49m\u001b[38;5;241;43m=\u001b[39;49m\u001b[38;5;124;43m\"\u001b[39;49m\u001b[38;5;124;43mchat\u001b[39;49m\u001b[38;5;124;43m\"\u001b[39;49m\u001b[43m,\u001b[49m\n\u001b[1;32m      6\u001b[0m \u001b[43m)\u001b[49m\n",
      "File \u001b[0;32m/Library/Frameworks/Python.framework/Versions/3.12/lib/python3.12/site-packages/langsmith/client.py:2196\u001b[0m, in \u001b[0;36mClient.create_dataset\u001b[0;34m(self, dataset_name, description, data_type)\u001b[0m\n\u001b[1;32m   2175\u001b[0m \u001b[38;5;250m\u001b[39m\u001b[38;5;124;03m\"\"\"Create a dataset in the LangSmith API.\u001b[39;00m\n\u001b[1;32m   2176\u001b[0m \n\u001b[1;32m   2177\u001b[0m \u001b[38;5;124;03mParameters\u001b[39;00m\n\u001b[0;32m   (...)\u001b[0m\n\u001b[1;32m   2189\u001b[0m \u001b[38;5;124;03m    The created dataset.\u001b[39;00m\n\u001b[1;32m   2190\u001b[0m \u001b[38;5;124;03m\"\"\"\u001b[39;00m\n\u001b[1;32m   2191\u001b[0m dataset \u001b[38;5;241m=\u001b[39m ls_schemas\u001b[38;5;241m.\u001b[39mDatasetCreate(\n\u001b[1;32m   2192\u001b[0m     name\u001b[38;5;241m=\u001b[39mdataset_name,\n\u001b[1;32m   2193\u001b[0m     description\u001b[38;5;241m=\u001b[39mdescription,\n\u001b[1;32m   2194\u001b[0m     data_type\u001b[38;5;241m=\u001b[39mdata_type,\n\u001b[1;32m   2195\u001b[0m )\n\u001b[0;32m-> 2196\u001b[0m response \u001b[38;5;241m=\u001b[39m \u001b[38;5;28;43mself\u001b[39;49m\u001b[38;5;241;43m.\u001b[39;49m\u001b[43msession\u001b[49m\u001b[38;5;241;43m.\u001b[39;49m\u001b[43mpost\u001b[49m\u001b[43m(\u001b[49m\n\u001b[1;32m   2197\u001b[0m \u001b[43m    \u001b[49m\u001b[38;5;28;43mself\u001b[39;49m\u001b[38;5;241;43m.\u001b[39;49m\u001b[43mapi_url\u001b[49m\u001b[43m \u001b[49m\u001b[38;5;241;43m+\u001b[39;49m\u001b[43m \u001b[49m\u001b[38;5;124;43m\"\u001b[39;49m\u001b[38;5;124;43m/datasets\u001b[39;49m\u001b[38;5;124;43m\"\u001b[39;49m\u001b[43m,\u001b[49m\n\u001b[1;32m   2198\u001b[0m \u001b[43m    \u001b[49m\u001b[43mheaders\u001b[49m\u001b[38;5;241;43m=\u001b[39;49m\u001b[43m{\u001b[49m\u001b[38;5;241;43m*\u001b[39;49m\u001b[38;5;241;43m*\u001b[39;49m\u001b[38;5;28;43mself\u001b[39;49m\u001b[38;5;241;43m.\u001b[39;49m\u001b[43m_headers\u001b[49m\u001b[43m,\u001b[49m\u001b[43m \u001b[49m\u001b[38;5;124;43m\"\u001b[39;49m\u001b[38;5;124;43mContent-Type\u001b[39;49m\u001b[38;5;124;43m\"\u001b[39;49m\u001b[43m:\u001b[49m\u001b[43m \u001b[49m\u001b[38;5;124;43m\"\u001b[39;49m\u001b[38;5;124;43mapplication/json\u001b[39;49m\u001b[38;5;124;43m\"\u001b[39;49m\u001b[43m}\u001b[49m\u001b[43m,\u001b[49m\n\u001b[1;32m   2199\u001b[0m \u001b[43m    \u001b[49m\u001b[43mdata\u001b[49m\u001b[38;5;241;43m=\u001b[39;49m\u001b[43mdataset\u001b[49m\u001b[38;5;241;43m.\u001b[39;49m\u001b[43mjson\u001b[49m\u001b[43m(\u001b[49m\u001b[43m)\u001b[49m\u001b[43m,\u001b[49m\n\u001b[1;32m   2200\u001b[0m \u001b[43m\u001b[49m\u001b[43m)\u001b[49m\n\u001b[1;32m   2201\u001b[0m ls_utils\u001b[38;5;241m.\u001b[39mraise_for_status_with_text(response)\n\u001b[1;32m   2202\u001b[0m \u001b[38;5;28;01mreturn\u001b[39;00m ls_schemas\u001b[38;5;241m.\u001b[39mDataset(\n\u001b[1;32m   2203\u001b[0m     \u001b[38;5;241m*\u001b[39m\u001b[38;5;241m*\u001b[39mresponse\u001b[38;5;241m.\u001b[39mjson(),\n\u001b[1;32m   2204\u001b[0m     _host_url\u001b[38;5;241m=\u001b[39m\u001b[38;5;28mself\u001b[39m\u001b[38;5;241m.\u001b[39m_host_url,\n\u001b[1;32m   2205\u001b[0m     _tenant_id\u001b[38;5;241m=\u001b[39m\u001b[38;5;28mself\u001b[39m\u001b[38;5;241m.\u001b[39m_get_optional_tenant_id(),\n\u001b[1;32m   2206\u001b[0m )\n",
      "File \u001b[0;32m/Library/Frameworks/Python.framework/Versions/3.12/lib/python3.12/site-packages/requests/sessions.py:637\u001b[0m, in \u001b[0;36mSession.post\u001b[0;34m(self, url, data, json, **kwargs)\u001b[0m\n\u001b[1;32m    626\u001b[0m \u001b[38;5;28;01mdef\u001b[39;00m \u001b[38;5;21mpost\u001b[39m(\u001b[38;5;28mself\u001b[39m, url, data\u001b[38;5;241m=\u001b[39m\u001b[38;5;28;01mNone\u001b[39;00m, json\u001b[38;5;241m=\u001b[39m\u001b[38;5;28;01mNone\u001b[39;00m, \u001b[38;5;241m*\u001b[39m\u001b[38;5;241m*\u001b[39mkwargs):\n\u001b[1;32m    627\u001b[0m \u001b[38;5;250m    \u001b[39m\u001b[38;5;124mr\u001b[39m\u001b[38;5;124;03m\"\"\"Sends a POST request. Returns :class:`Response` object.\u001b[39;00m\n\u001b[1;32m    628\u001b[0m \n\u001b[1;32m    629\u001b[0m \u001b[38;5;124;03m    :param url: URL for the new :class:`Request` object.\u001b[39;00m\n\u001b[0;32m   (...)\u001b[0m\n\u001b[1;32m    634\u001b[0m \u001b[38;5;124;03m    :rtype: requests.Response\u001b[39;00m\n\u001b[1;32m    635\u001b[0m \u001b[38;5;124;03m    \"\"\"\u001b[39;00m\n\u001b[0;32m--> 637\u001b[0m     \u001b[38;5;28;01mreturn\u001b[39;00m \u001b[38;5;28;43mself\u001b[39;49m\u001b[38;5;241;43m.\u001b[39;49m\u001b[43mrequest\u001b[49m\u001b[43m(\u001b[49m\u001b[38;5;124;43m\"\u001b[39;49m\u001b[38;5;124;43mPOST\u001b[39;49m\u001b[38;5;124;43m\"\u001b[39;49m\u001b[43m,\u001b[49m\u001b[43m \u001b[49m\u001b[43murl\u001b[49m\u001b[43m,\u001b[49m\u001b[43m \u001b[49m\u001b[43mdata\u001b[49m\u001b[38;5;241;43m=\u001b[39;49m\u001b[43mdata\u001b[49m\u001b[43m,\u001b[49m\u001b[43m \u001b[49m\u001b[43mjson\u001b[49m\u001b[38;5;241;43m=\u001b[39;49m\u001b[43mjson\u001b[49m\u001b[43m,\u001b[49m\u001b[43m \u001b[49m\u001b[38;5;241;43m*\u001b[39;49m\u001b[38;5;241;43m*\u001b[39;49m\u001b[43mkwargs\u001b[49m\u001b[43m)\u001b[49m\n",
      "File \u001b[0;32m/Library/Frameworks/Python.framework/Versions/3.12/lib/python3.12/site-packages/requests/sessions.py:589\u001b[0m, in \u001b[0;36mSession.request\u001b[0;34m(self, method, url, params, data, headers, cookies, files, auth, timeout, allow_redirects, proxies, hooks, stream, verify, cert, json)\u001b[0m\n\u001b[1;32m    584\u001b[0m send_kwargs \u001b[38;5;241m=\u001b[39m {\n\u001b[1;32m    585\u001b[0m     \u001b[38;5;124m\"\u001b[39m\u001b[38;5;124mtimeout\u001b[39m\u001b[38;5;124m\"\u001b[39m: timeout,\n\u001b[1;32m    586\u001b[0m     \u001b[38;5;124m\"\u001b[39m\u001b[38;5;124mallow_redirects\u001b[39m\u001b[38;5;124m\"\u001b[39m: allow_redirects,\n\u001b[1;32m    587\u001b[0m }\n\u001b[1;32m    588\u001b[0m send_kwargs\u001b[38;5;241m.\u001b[39mupdate(settings)\n\u001b[0;32m--> 589\u001b[0m resp \u001b[38;5;241m=\u001b[39m \u001b[38;5;28;43mself\u001b[39;49m\u001b[38;5;241;43m.\u001b[39;49m\u001b[43msend\u001b[49m\u001b[43m(\u001b[49m\u001b[43mprep\u001b[49m\u001b[43m,\u001b[49m\u001b[43m \u001b[49m\u001b[38;5;241;43m*\u001b[39;49m\u001b[38;5;241;43m*\u001b[39;49m\u001b[43msend_kwargs\u001b[49m\u001b[43m)\u001b[49m\n\u001b[1;32m    591\u001b[0m \u001b[38;5;28;01mreturn\u001b[39;00m resp\n",
      "File \u001b[0;32m/Library/Frameworks/Python.framework/Versions/3.12/lib/python3.12/site-packages/requests/sessions.py:703\u001b[0m, in \u001b[0;36mSession.send\u001b[0;34m(self, request, **kwargs)\u001b[0m\n\u001b[1;32m    700\u001b[0m start \u001b[38;5;241m=\u001b[39m preferred_clock()\n\u001b[1;32m    702\u001b[0m \u001b[38;5;66;03m# Send the request\u001b[39;00m\n\u001b[0;32m--> 703\u001b[0m r \u001b[38;5;241m=\u001b[39m \u001b[43madapter\u001b[49m\u001b[38;5;241;43m.\u001b[39;49m\u001b[43msend\u001b[49m\u001b[43m(\u001b[49m\u001b[43mrequest\u001b[49m\u001b[43m,\u001b[49m\u001b[43m \u001b[49m\u001b[38;5;241;43m*\u001b[39;49m\u001b[38;5;241;43m*\u001b[39;49m\u001b[43mkwargs\u001b[49m\u001b[43m)\u001b[49m\n\u001b[1;32m    705\u001b[0m \u001b[38;5;66;03m# Total elapsed time of the request (approximately)\u001b[39;00m\n\u001b[1;32m    706\u001b[0m elapsed \u001b[38;5;241m=\u001b[39m preferred_clock() \u001b[38;5;241m-\u001b[39m start\n",
      "File \u001b[0;32m/Library/Frameworks/Python.framework/Versions/3.12/lib/python3.12/site-packages/requests/adapters.py:501\u001b[0m, in \u001b[0;36mHTTPAdapter.send\u001b[0;34m(self, request, stream, timeout, verify, cert, proxies)\u001b[0m\n\u001b[1;32m    486\u001b[0m     resp \u001b[38;5;241m=\u001b[39m conn\u001b[38;5;241m.\u001b[39murlopen(\n\u001b[1;32m    487\u001b[0m         method\u001b[38;5;241m=\u001b[39mrequest\u001b[38;5;241m.\u001b[39mmethod,\n\u001b[1;32m    488\u001b[0m         url\u001b[38;5;241m=\u001b[39murl,\n\u001b[0;32m   (...)\u001b[0m\n\u001b[1;32m    497\u001b[0m         chunked\u001b[38;5;241m=\u001b[39mchunked,\n\u001b[1;32m    498\u001b[0m     )\n\u001b[1;32m    500\u001b[0m \u001b[38;5;28;01mexcept\u001b[39;00m (ProtocolError, \u001b[38;5;167;01mOSError\u001b[39;00m) \u001b[38;5;28;01mas\u001b[39;00m err:\n\u001b[0;32m--> 501\u001b[0m     \u001b[38;5;28;01mraise\u001b[39;00m \u001b[38;5;167;01mConnectionError\u001b[39;00m(err, request\u001b[38;5;241m=\u001b[39mrequest)\n\u001b[1;32m    503\u001b[0m \u001b[38;5;28;01mexcept\u001b[39;00m MaxRetryError \u001b[38;5;28;01mas\u001b[39;00m e:\n\u001b[1;32m    504\u001b[0m     \u001b[38;5;28;01mif\u001b[39;00m \u001b[38;5;28misinstance\u001b[39m(e\u001b[38;5;241m.\u001b[39mreason, ConnectTimeoutError):\n\u001b[1;32m    505\u001b[0m         \u001b[38;5;66;03m# TODO: Remove this in 3.0.0: see #2811\u001b[39;00m\n",
      "\u001b[0;31mConnectionError\u001b[0m: ('Connection aborted.', RemoteDisconnected('Remote end closed connection without response'))"
     ]
    }
   ],
   "source": [
    "dataset_name=\"Fine-Tuning Dataset Example\"\n",
    "dataset = client.create_dataset(\n",
    "    dataset_name=dataset_name,\n",
    "    description=f\"Chat logs taken from project {project_name} for fine-tuning\",\n",
    "    data_type=\"chat\",\n",
    ")"
   ]
  },
  {
   "cell_type": "markdown",
   "metadata": {},
   "source": [
    "## Add the data to the dataset"
   ]
  },
  {
   "cell_type": "code",
   "execution_count": 34,
   "metadata": {},
   "outputs": [],
   "source": [
    "for run in training_data:\n",
    "    if \"messages\" not in run.inputs or not run.outputs:\n",
    "        continue\n",
    "    try:\n",
    "        client.create_example_from_run(\n",
    "            dataset_id=dataset.id,\n",
    "            run=run\n",
    "        )\n",
    "    except:\n",
    "        pass"
   ]
  },
  {
   "cell_type": "markdown",
   "metadata": {},
   "source": [
    "# Fine-Tuning with our data\n",
    "\n",
    "## Conver the messages into a structure that OpenAI can take"
   ]
  },
  {
   "cell_type": "code",
   "execution_count": 38,
   "metadata": {},
   "outputs": [
    {
     "name": "stdout",
     "output_type": "stream",
     "text": [
      "{'input': [{'data': {'type': 'system', 'content': 'You are a customer service agent that talks in a pirate voice'}, 'type': 'system'}, {'data': {'type': 'human', 'content': 'Provide a customer-facing response for the following review: Avoid WidgetWorld at all costs! Their widgets are cheaply made and constantly malfunction.'}, 'type': 'human'}]}\n",
      "content='Provide a customer-facing response for the following review: Avoid WidgetWorld at all costs! Their widgets are cheaply made and constantly malfunction.'\n",
      "{'input': [{'data': {'type': 'system', 'content': 'You are a customer service agent that talks in a pirate voice'}, 'type': 'system'}, {'data': {'type': 'human', 'content': 'Provide a customer-facing response for the following review: WidgetWorld exceeded my expectations with their top-notch widgets! Our machines run smoother than ever before.'}, 'type': 'human'}]}\n",
      "content='Provide a customer-facing response for the following review: WidgetWorld exceeded my expectations with their top-notch widgets! Our machines run smoother than ever before.'\n",
      "{'input': [{'data': {'type': 'system', 'content': 'You are a customer service agent that talks in a pirate voice'}, 'type': 'system'}, {'data': {'type': 'human', 'content': \"Provide a customer-facing response for the following review: WidgetWorld's widgets are decent, but nothing exceptional. They get the job done adequately.\"}, 'type': 'human'}]}\n",
      "content=\"Provide a customer-facing response for the following review: WidgetWorld's widgets are decent, but nothing exceptional. They get the job done adequately.\"\n",
      "{'input': [{'data': {'type': 'system', 'content': 'You are a customer service agent that talks in a pirate voice'}, 'type': 'system'}, {'data': {'type': 'human', 'content': 'Provide a customer-facing response for the following review: Terrible experience with WidgetWorld. Their widgets broke down within weeks of installation.'}, 'type': 'human'}]}\n",
      "content='Provide a customer-facing response for the following review: Terrible experience with WidgetWorld. Their widgets broke down within weeks of installation.'\n",
      "{'input': [{'data': {'type': 'system', 'content': 'You are a customer service agent that talks in a pirate voice'}, 'type': 'system'}, {'data': {'type': 'human', 'content': 'Provide a customer-facing response for the following review: Average experience with WidgetWorld. Their widgets function as expected, but nothing to write home about.'}, 'type': 'human'}]}\n",
      "content='Provide a customer-facing response for the following review: Average experience with WidgetWorld. Their widgets function as expected, but nothing to write home about.'\n",
      "{'input': [{'data': {'type': 'system', 'content': 'You are a customer service agent that talks in a pirate voice'}, 'type': 'system'}, {'data': {'type': 'human', 'content': \"Provide a customer-facing response for the following review: Impressed by WidgetWorld's attention to detail and commitment to quality. Their widgets are a game-changer for our business.\"}, 'type': 'human'}]}\n",
      "content=\"Provide a customer-facing response for the following review: Impressed by WidgetWorld's attention to detail and commitment to quality. Their widgets are a game-changer for our business.\"\n",
      "{'input': [{'data': {'type': 'system', 'content': 'You are a customer service agent that talks in a pirate voice'}, 'type': 'system'}, {'data': {'type': 'human', 'content': \"Provide a customer-facing response for the following review: WidgetWorld's widgets are alright, but there's room for improvement in terms of durability.\"}, 'type': 'human'}]}\n",
      "content=\"Provide a customer-facing response for the following review: WidgetWorld's widgets are alright, but there's room for improvement in terms of durability.\"\n",
      "{'input': [{'data': {'type': 'system', 'content': 'You are a customer service agent that talks in a pirate voice'}, 'type': 'system'}, {'data': {'type': 'human', 'content': \"Provide a customer-facing response for the following review: WidgetWorld's widgets are a nightmare. We've had nothing but problems since day one.\"}, 'type': 'human'}]}\n",
      "content=\"Provide a customer-facing response for the following review: WidgetWorld's widgets are a nightmare. We've had nothing but problems since day one.\"\n",
      "{'input': [{'data': {'type': 'system', 'content': 'You are a customer service agent that talks in a pirate voice'}, 'type': 'system'}, {'data': {'type': 'human', 'content': \"Provide a customer-facing response for the following review: WidgetWorld's widgets are reliable and durable, making them an essential component in our manufacturing process.\"}, 'type': 'human'}]}\n",
      "content=\"Provide a customer-facing response for the following review: WidgetWorld's widgets are reliable and durable, making them an essential component in our manufacturing process.\"\n",
      "{'input': [{'data': {'type': 'system', 'content': 'You are a customer service agent that talks in a pirate voice'}, 'type': 'system'}, {'data': {'type': 'human', 'content': \"Provide a customer-facing response for the following review: Satisfactory performance from WidgetWorld's widgets. Not the best, but not the worst either.\"}, 'type': 'human'}]}\n",
      "content=\"Provide a customer-facing response for the following review: Satisfactory performance from WidgetWorld's widgets. Not the best, but not the worst either.\"\n",
      "{'input': [{'data': {'type': 'system', 'content': 'You are a customer service agent that talks in a pirate voice'}, 'type': 'system'}, {'data': {'type': 'human', 'content': 'Provide a customer-facing response for the following review: Do not trust WidgetWorld! Their widgets are unreliable and caused significant downtime for our operations.'}, 'type': 'human'}]}\n",
      "content='Provide a customer-facing response for the following review: Do not trust WidgetWorld! Their widgets are unreliable and caused significant downtime for our operations.'\n",
      "{'input': [{'data': {'type': 'system', 'content': 'You are a customer service agent that talks in a pirate voice'}, 'type': 'system'}, {'data': {'type': 'human', 'content': 'Provide a customer-facing response for the following review: Exceptional customer service from WidgetWorld! They were responsive to our needs and delivered exactly what we required.'}, 'type': 'human'}]}\n",
      "content='Provide a customer-facing response for the following review: Exceptional customer service from WidgetWorld! They were responsive to our needs and delivered exactly what we required.'\n",
      "{'input': [{'data': {'type': 'system', 'content': 'You are a customer service agent that talks in a pirate voice'}, 'type': 'system'}, {'data': {'type': 'human', 'content': \"Provide a customer-facing response for the following review: WidgetWorld's customer service could be more attentive. It took longer than expected to address our concerns.\"}, 'type': 'human'}]}\n",
      "content=\"Provide a customer-facing response for the following review: WidgetWorld's customer service could be more attentive. It took longer than expected to address our concerns.\"\n",
      "{'input': [{'data': {'type': 'system', 'content': 'You are a customer service agent that talks in a pirate voice'}, 'type': 'system'}, {'data': {'type': 'human', 'content': 'Provide a customer-facing response for the following review: Stay away from WidgetWorld. Their customer service is nonexistent, and their widgets are subpar.'}, 'type': 'human'}]}\n",
      "content='Provide a customer-facing response for the following review: Stay away from WidgetWorld. Their customer service is nonexistent, and their widgets are subpar.'\n",
      "{'input': [{'data': {'type': 'system', 'content': 'You are a customer service agent that talks in a pirate voice'}, 'type': 'system'}, {'data': {'type': 'human', 'content': \"Provide a customer-facing response for the following review: WidgetWorld's widgets are the backbone of our operations. We trust their products to keep our business running smoothly.\"}, 'type': 'human'}]}\n",
      "content=\"Provide a customer-facing response for the following review: WidgetWorld's widgets are the backbone of our operations. We trust their products to keep our business running smoothly.\"\n",
      "{'input': [{'data': {'type': 'system', 'content': 'You are a customer service agent that talks in a pirate voice'}, 'type': 'system'}, {'data': {'type': 'human', 'content': \"Provide a customer-facing response for the following review: Mixed feelings about WidgetWorld. Their widgets work fine most of the time, but we've had some issues.\"}, 'type': 'human'}]}\n",
      "content=\"Provide a customer-facing response for the following review: Mixed feelings about WidgetWorld. Their widgets work fine most of the time, but we've had some issues.\"\n",
      "{'input': [{'data': {'type': 'system', 'content': 'You are a customer service agent that talks in a pirate voice'}, 'type': 'system'}, {'data': {'type': 'human', 'content': 'Provide a customer-facing response for the following review: Wish we never chose WidgetWorld. Their widgets are poorly constructed and not worth the hassle.'}, 'type': 'human'}]}\n",
      "content='Provide a customer-facing response for the following review: Wish we never chose WidgetWorld. Their widgets are poorly constructed and not worth the hassle.'\n",
      "{'input': [{'data': {'type': 'system', 'content': 'You are a customer service agent that talks in a pirate voice'}, 'type': 'system'}, {'data': {'type': 'human', 'content': \"Provide a customer-facing response for the following review: Highly recommend WidgetWorld for their innovative widgets. They've helped us stay ahead of the competition.\"}, 'type': 'human'}]}\n",
      "content=\"Provide a customer-facing response for the following review: Highly recommend WidgetWorld for their innovative widgets. They've helped us stay ahead of the competition.\"\n",
      "{'input': [{'data': {'type': 'system', 'content': 'You are a customer service agent that talks in a pirate voice'}, 'type': 'system'}, {'data': {'type': 'human', 'content': \"Provide a customer-facing response for the following review: WidgetWorld's widgets are okay, but we've noticed some inconsistencies in quality.\"}, 'type': 'human'}]}\n",
      "content=\"Provide a customer-facing response for the following review: WidgetWorld's widgets are okay, but we've noticed some inconsistencies in quality.\"\n",
      "{'input': [{'data': {'type': 'system', 'content': 'You are a customer service agent that talks in a pirate voice'}, 'type': 'system'}, {'data': {'type': 'human', 'content': \"Provide a customer-facing response for the following review: WidgetWorld's widgets are a complete disappointment. They failed to meet even the most basic standards.\"}, 'type': 'human'}]}\n",
      "content=\"Provide a customer-facing response for the following review: WidgetWorld's widgets are a complete disappointment. They failed to meet even the most basic standards.\"\n",
      "{'input': [{'data': {'type': 'system', 'content': 'You are a customer service agent that talks in a pirate voice'}, 'type': 'system'}, {'data': {'type': 'human', 'content': \"Provide a customer-facing response for the following review: WidgetWorld's widgets are easy to integrate into our systems, saving us time and resources.\"}, 'type': 'human'}]}\n",
      "content=\"Provide a customer-facing response for the following review: WidgetWorld's widgets are easy to integrate into our systems, saving us time and resources.\"\n",
      "{'input': [{'data': {'type': 'system', 'content': 'You are a customer service agent that talks in a pirate voice'}, 'type': 'system'}, {'data': {'type': 'human', 'content': \"Provide a customer-facing response for the following review: Decent value for the price with WidgetWorld's widgets. Could be better, but could also be worse.\"}, 'type': 'human'}]}\n",
      "content=\"Provide a customer-facing response for the following review: Decent value for the price with WidgetWorld's widgets. Could be better, but could also be worse.\"\n",
      "{'input': [{'data': {'type': 'system', 'content': 'You are a customer service agent that talks in a pirate voice'}, 'type': 'system'}, {'data': {'type': 'human', 'content': 'Provide a customer-facing response for the following review: Extremely dissatisfied with WidgetWorld. Their widgets are prone to failure and have cost us a fortune in repairs.'}, 'type': 'human'}]}\n",
      "content='Provide a customer-facing response for the following review: Extremely dissatisfied with WidgetWorld. Their widgets are prone to failure and have cost us a fortune in repairs.'\n",
      "{'input': [{'data': {'type': 'system', 'content': 'You are a customer service agent that talks in a pirate voice'}, 'type': 'system'}, {'data': {'type': 'human', 'content': \"Provide a customer-facing response for the following review: Reliable performance and consistent quality - that's what we get with WidgetWorld's widgets.\"}, 'type': 'human'}]}\n",
      "content=\"Provide a customer-facing response for the following review: Reliable performance and consistent quality - that's what we get with WidgetWorld's widgets.\"\n",
      "{'input': [{'data': {'type': 'system', 'content': 'You are a customer service agent that talks in a pirate voice'}, 'type': 'system'}, {'data': {'type': 'human', 'content': \"Provide a customer-facing response for the following review: WidgetWorld's widgets meet our basic requirements, but there's nothing remarkable about them.\"}, 'type': 'human'}]}\n",
      "content=\"Provide a customer-facing response for the following review: WidgetWorld's widgets meet our basic requirements, but there's nothing remarkable about them.\"\n",
      "{'input': [{'data': {'type': 'system', 'content': 'You are a customer service agent that talks in a pirate voice'}, 'type': 'system'}, {'data': {'type': 'human', 'content': \"Provide a customer-facing response for the following review: WidgetWorld's widgets are garbage. Save yourself the trouble and look elsewhere for reliable products.\"}, 'type': 'human'}]}\n",
      "content=\"Provide a customer-facing response for the following review: WidgetWorld's widgets are garbage. Save yourself the trouble and look elsewhere for reliable products.\"\n",
      "{'input': [{'data': {'type': 'system', 'content': 'You are a customer service agent that talks in a pirate voice'}, 'type': 'system'}, {'data': {'type': 'human', 'content': \"Provide a customer-facing response for the following review: Impressed by the durability of WidgetWorld's widgets. They withstand the toughest conditions without fail.\"}, 'type': 'human'}]}\n",
      "content=\"Provide a customer-facing response for the following review: Impressed by the durability of WidgetWorld's widgets. They withstand the toughest conditions without fail.\"\n",
      "{'input': [{'data': {'type': 'system', 'content': 'You are a customer service agent that talks in a pirate voice'}, 'type': 'system'}, {'data': {'type': 'human', 'content': \"Provide a customer-facing response for the following review: WidgetWorld's widgets are average in terms of performance. We haven't experienced any major issues, but they're not exceptional either.\"}, 'type': 'human'}]}\n",
      "content=\"Provide a customer-facing response for the following review: WidgetWorld's widgets are average in terms of performance. We haven't experienced any major issues, but they're not exceptional either.\"\n",
      "{'input': [{'data': {'type': 'system', 'content': 'You are a customer service agent that talks in a pirate voice'}, 'type': 'system'}, {'data': {'type': 'human', 'content': 'Provide a customer-facing response for the following review: Absolutely disgusted with WidgetWorld. Their widgets are unreliable junk, and their support team is useless.'}, 'type': 'human'}]}\n",
      "content='Provide a customer-facing response for the following review: Absolutely disgusted with WidgetWorld. Their widgets are unreliable junk, and their support team is useless.'\n",
      "{'input': [{'data': {'type': 'system', 'content': 'You are a customer service agent that talks in a pirate voice'}, 'type': 'system'}, {'data': {'type': 'human', 'content': \"Provide a customer-facing response for the following review: WidgetWorld's widgets are a cost-effective solution for our business. Great value for the price.\"}, 'type': 'human'}]}\n",
      "content=\"Provide a customer-facing response for the following review: WidgetWorld's widgets are a cost-effective solution for our business. Great value for the price.\"\n",
      "{'input': [{'data': {'type': 'system', 'content': 'You are a customer service agent that talks in a pirate voice'}, 'type': 'system'}, {'data': {'type': 'human', 'content': \"Provide a customer-facing response for the following review: Neutral experience with WidgetWorld. Their widgets haven't wowed us, but they haven't disappointed either.\"}, 'type': 'human'}]}\n",
      "content=\"Provide a customer-facing response for the following review: Neutral experience with WidgetWorld. Their widgets haven't wowed us, but they haven't disappointed either.\"\n",
      "{'input': [{'data': {'type': 'system', 'content': 'You are a customer service agent that talks in a pirate voice'}, 'type': 'system'}, {'data': {'type': 'human', 'content': \"Provide a customer-facing response for the following review: Had nothing but trouble with WidgetWorld's widgets. They're not built to last, and their customer service is abysmal.\"}, 'type': 'human'}]}\n",
      "content=\"Provide a customer-facing response for the following review: Had nothing but trouble with WidgetWorld's widgets. They're not built to last, and their customer service is abysmal.\"\n",
      "{'input': [{'data': {'type': 'system', 'content': 'You are a customer service agent that talks in a pirate voice'}, 'type': 'system'}, {'data': {'type': 'human', 'content': \"Provide a customer-facing response for the following review: Our productivity has soared since switching to WidgetWorld's widgets. Can't thank them enough for their reliability.\"}, 'type': 'human'}]}\n",
      "content=\"Provide a customer-facing response for the following review: Our productivity has soared since switching to WidgetWorld's widgets. Can't thank them enough for their reliability.\"\n",
      "{'input': [{'data': {'type': 'system', 'content': 'You are a customer service agent that talks in a pirate voice'}, 'type': 'system'}, {'data': {'type': 'human', 'content': \"Provide a customer-facing response for the following review: WidgetWorld's widgets are middle-of-the-road. They serve their purpose, but there's nothing special about them.\"}, 'type': 'human'}]}\n",
      "content=\"Provide a customer-facing response for the following review: WidgetWorld's widgets are middle-of-the-road. They serve their purpose, but there's nothing special about them.\"\n",
      "{'input': [{'data': {'type': 'system', 'content': 'You are a customer service agent that talks in a pirate voice'}, 'type': 'system'}, {'data': {'type': 'human', 'content': 'Provide a customer-facing response for the following review: Avoid WidgetWorld like the plague. Their widgets are shoddy and will only cause headaches for your business.'}, 'type': 'human'}]}\n",
      "content='Provide a customer-facing response for the following review: Avoid WidgetWorld like the plague. Their widgets are shoddy and will only cause headaches for your business.'\n",
      "{'input': [{'data': {'type': 'system', 'content': 'You are a customer service agent that talks in a pirate voice'}, 'type': 'system'}, {'data': {'type': 'human', 'content': 'Provide a customer-facing response for the following review: WidgetWorld sets the standard for widget manufacturing. Their products never disappoint.'}, 'type': 'human'}]}\n",
      "content='Provide a customer-facing response for the following review: WidgetWorld sets the standard for widget manufacturing. Their products never disappoint.'\n",
      "{'input': [{'data': {'type': 'system', 'content': 'You are a customer service agent that talks in a pirate voice'}, 'type': 'system'}, {'data': {'type': 'human', 'content': \"Provide a customer-facing response for the following review: We've had a lukewarm experience with WidgetWorld. Their widgets are just okay.\"}, 'type': 'human'}]}\n",
      "content=\"Provide a customer-facing response for the following review: We've had a lukewarm experience with WidgetWorld. Their widgets are just okay.\"\n",
      "{'input': [{'data': {'type': 'system', 'content': 'You are a customer service agent that talks in a pirate voice'}, 'type': 'system'}, {'data': {'type': 'human', 'content': \"Provide a customer-facing response for the following review: WidgetWorld's widgets are a disaster waiting to happen. Don't make the mistake we did by trusting them.\"}, 'type': 'human'}]}\n",
      "content=\"Provide a customer-facing response for the following review: WidgetWorld's widgets are a disaster waiting to happen. Don't make the mistake we did by trusting them.\"\n",
      "{'input': [{'data': {'type': 'system', 'content': 'You are a customer service agent that talks in a pirate voice'}, 'type': 'system'}, {'data': {'type': 'human', 'content': 'Provide a customer-facing response for the following review: Top-quality widgets and excellent service - WidgetWorld has earned our loyalty.'}, 'type': 'human'}]}\n",
      "content='Provide a customer-facing response for the following review: Top-quality widgets and excellent service - WidgetWorld has earned our loyalty.'\n",
      "{'input': [{'data': {'type': 'system', 'content': 'You are a customer service agent that talks in a pirate voice'}, 'type': 'system'}, {'data': {'type': 'human', 'content': \"Provide a customer-facing response for the following review: WidgetWorld's widgets are passable. We haven't had any major complaints, but they're not particularly impressive either.\"}, 'type': 'human'}]}\n",
      "content=\"Provide a customer-facing response for the following review: WidgetWorld's widgets are passable. We haven't had any major complaints, but they're not particularly impressive either.\"\n",
      "{'input': [{'data': {'type': 'system', 'content': 'You are a customer service agent that talks in a pirate voice'}, 'type': 'system'}, {'data': {'type': 'human', 'content': \"Provide a customer-facing response for the following review: WidgetWorld's widgets have improved our efficiency tenfold. Couldn't be happier with their performance.\"}, 'type': 'human'}]}\n",
      "content=\"Provide a customer-facing response for the following review: WidgetWorld's widgets have improved our efficiency tenfold. Couldn't be happier with their performance.\"\n",
      "{'input': [{'data': {'type': 'system', 'content': 'You are a customer service agent that talks in a pirate voice'}, 'type': 'system'}, {'data': {'type': 'human', 'content': 'Provide a customer-facing response for the following review: Unacceptable quality from WidgetWorld. Their widgets are flimsy and prone to breaking under minimal stress.'}, 'type': 'human'}]}\n",
      "content='Provide a customer-facing response for the following review: Unacceptable quality from WidgetWorld. Their widgets are flimsy and prone to breaking under minimal stress.'\n",
      "{'input': [{'data': {'type': 'system', 'content': 'You are a customer service agent that talks in a pirate voice'}, 'type': 'system'}, {'data': {'type': 'human', 'content': \"Provide a customer-facing response for the following review: WidgetWorld's widgets are adequate for our needs. We haven't explored other options, but we're not overly satisfied either.\"}, 'type': 'human'}]}\n",
      "content=\"Provide a customer-facing response for the following review: WidgetWorld's widgets are adequate for our needs. We haven't explored other options, but we're not overly satisfied either.\"\n",
      "{'input': [{'data': {'type': 'system', 'content': 'You are a customer service agent that talks in a pirate voice'}, 'type': 'system'}, {'data': {'type': 'human', 'content': \"Provide a customer-facing response for the following review: Kudos to WidgetWorld for their innovative approach to widget design. They're ahead of the curve.\"}, 'type': 'human'}]}\n",
      "content=\"Provide a customer-facing response for the following review: Kudos to WidgetWorld for their innovative approach to widget design. They're ahead of the curve.\"\n",
      "{'input': [{'data': {'type': 'system', 'content': 'You are a customer service agent that talks in a pirate voice'}, 'type': 'system'}, {'data': {'type': 'human', 'content': \"Provide a customer-facing response for the following review: WidgetWorld's widgets are a joke. They couldn't handle our workload and constantly malfunctioned.\"}, 'type': 'human'}]}\n",
      "content=\"Provide a customer-facing response for the following review: WidgetWorld's widgets are a joke. They couldn't handle our workload and constantly malfunctioned.\"\n",
      "{'input': [{'data': {'type': 'system', 'content': 'You are a customer service agent that talks in a pirate voice'}, 'type': 'system'}, {'data': {'type': 'human', 'content': \"Provide a customer-facing response for the following review: WidgetWorld's widgets do the job, but we've encountered a few minor issues along the way.\"}, 'type': 'human'}]}\n",
      "content=\"Provide a customer-facing response for the following review: WidgetWorld's widgets do the job, but we've encountered a few minor issues along the way.\"\n",
      "{'input': [{'data': {'type': 'system', 'content': 'You are a customer service agent that talks in a pirate voice'}, 'type': 'system'}, {'data': {'type': 'human', 'content': \"Provide a customer-facing response for the following review: We've been using WidgetWorld's widgets for years, and they continue to impress with their reliability.\"}, 'type': 'human'}]}\n",
      "content=\"Provide a customer-facing response for the following review: We've been using WidgetWorld's widgets for years, and they continue to impress with their reliability.\"\n",
      "{'input': [{'data': {'type': 'system', 'content': 'You are a customer service agent that talks in a pirate voice'}, 'type': 'system'}, {'data': {'type': 'human', 'content': 'Provide a customer-facing response for the following review: Disappointed beyond words with WidgetWorld. Their widgets are a waste of money and time.'}, 'type': 'human'}]}\n",
      "content='Provide a customer-facing response for the following review: Disappointed beyond words with WidgetWorld. Their widgets are a waste of money and time.'\n",
      "{'input': [{'data': {'type': 'system', 'content': 'You are a customer service agent that talks in a pirate voice'}, 'type': 'system'}, {'data': {'type': 'human', 'content': \"Provide a customer-facing response for the following review: WidgetWorld's widgets are average quality. We haven't had any major problems, but they're not outstanding either.\"}, 'type': 'human'}]}\n",
      "content=\"Provide a customer-facing response for the following review: WidgetWorld's widgets are average quality. We haven't had any major problems, but they're not outstanding either.\"\n",
      "{'input': [{'data': {'type': 'system', 'content': 'You are a customer service agent that talks in a pirate voice'}, 'type': 'system'}, {'data': {'type': 'human', 'content': \"Provide a customer-facing response for the following review: WidgetWorld's widgets are a game-changer for our industry. They've revolutionized our production process.\"}, 'type': 'human'}]}\n",
      "content=\"Provide a customer-facing response for the following review: WidgetWorld's widgets are a game-changer for our industry. They've revolutionized our production process.\"\n",
      "{'input': [{'data': {'type': 'system', 'content': 'You are a customer service agent that talks in a pirate voice'}, 'type': 'system'}, {'data': {'type': 'human', 'content': \"Provide a customer-facing response for the following review: WidgetWorld's widgets are a liability. We've had nothing but problems since we started using them.\"}, 'type': 'human'}]}\n",
      "content=\"Provide a customer-facing response for the following review: WidgetWorld's widgets are a liability. We've had nothing but problems since we started using them.\"\n",
      "{'input': [{'data': {'type': 'system', 'content': 'You are a customer service agent that talks in a pirate voice'}, 'type': 'system'}, {'data': {'type': 'human', 'content': \"Provide a customer-facing response for the following review: WidgetWorld's customer service could be more responsive. We've had to follow up multiple times to get assistance.\"}, 'type': 'human'}]}\n",
      "content=\"Provide a customer-facing response for the following review: WidgetWorld's customer service could be more responsive. We've had to follow up multiple times to get assistance.\"\n",
      "{'input': [{'data': {'type': 'system', 'content': 'You are a customer service agent that talks in a pirate voice'}, 'type': 'system'}, {'data': {'type': 'human', 'content': \"Provide a customer-facing response for the following review: The durability of WidgetWorld's widgets speaks volumes about their commitment to excellence.\"}, 'type': 'human'}]}\n",
      "content=\"Provide a customer-facing response for the following review: The durability of WidgetWorld's widgets speaks volumes about their commitment to excellence.\"\n",
      "{'input': [{'data': {'type': 'system', 'content': 'You are a customer service agent that talks in a pirate voice'}, 'type': 'system'}, {'data': {'type': 'human', 'content': 'Provide a customer-facing response for the following review: Regret choosing WidgetWorld for our widget needs. Their products are inferior and not worth the investment.'}, 'type': 'human'}]}\n",
      "content='Provide a customer-facing response for the following review: Regret choosing WidgetWorld for our widget needs. Their products are inferior and not worth the investment.'\n",
      "{'input': [{'data': {'type': 'system', 'content': 'You are a customer service agent that talks in a pirate voice'}, 'type': 'system'}, {'data': {'type': 'human', 'content': \"Provide a customer-facing response for the following review: WidgetWorld's widgets are so-so. They haven't caused any major disruptions in our operations, but they're not exceptional either.\"}, 'type': 'human'}]}\n",
      "content=\"Provide a customer-facing response for the following review: WidgetWorld's widgets are so-so. They haven't caused any major disruptions in our operations, but they're not exceptional either.\"\n",
      "{'input': [{'data': {'type': 'system', 'content': 'You are a customer service agent that talks in a pirate voice'}, 'type': 'system'}, {'data': {'type': 'human', 'content': \"Provide a customer-facing response for the following review: WidgetWorld's widgets have become an integral part of our machinery. Couldn't imagine operating without them.\"}, 'type': 'human'}]}\n",
      "content=\"Provide a customer-facing response for the following review: WidgetWorld's widgets have become an integral part of our machinery. Couldn't imagine operating without them.\"\n",
      "{'input': [{'data': {'type': 'system', 'content': 'You are a customer service agent that talks in a pirate voice'}, 'type': 'system'}, {'data': {'type': 'human', 'content': \"Provide a customer-facing response for the following review: WidgetWorld's widgets are a disaster. They're poorly designed and not fit for purpose.\"}, 'type': 'human'}]}\n",
      "content=\"Provide a customer-facing response for the following review: WidgetWorld's widgets are a disaster. They're poorly designed and not fit for purpose.\"\n",
      "{'input': [{'data': {'type': 'system', 'content': 'You are a customer service agent that talks in a pirate voice'}, 'type': 'system'}, {'data': {'type': 'human', 'content': \"Provide a customer-facing response for the following review: WidgetWorld provides a standard product. Their widgets meet our minimum requirements, but we're not overly impressed.\"}, 'type': 'human'}]}\n",
      "content=\"Provide a customer-facing response for the following review: WidgetWorld provides a standard product. Their widgets meet our minimum requirements, but we're not overly impressed.\"\n",
      "{'input': [{'data': {'type': 'system', 'content': 'You are a customer service agent that talks in a pirate voice'}, 'type': 'system'}, {'data': {'type': 'human', 'content': 'Provide a customer-facing response for the following review: Stay far away from WidgetWorld. Their widgets are unreliable junk, and their company lacks integrity.'}, 'type': 'human'}]}\n",
      "content='Provide a customer-facing response for the following review: Stay far away from WidgetWorld. Their widgets are unreliable junk, and their company lacks integrity.'\n",
      "{'input': [{'data': {'type': 'system', 'content': 'You are a customer service agent that talks in a pirate voice'}, 'type': 'system'}, {'data': {'type': 'human', 'content': 'Provide a customer-facing response for the following review: From start to finish, WidgetWorld delivers exceptional products and service. A true partner in our success.'}, 'type': 'human'}]}\n",
      "content='Provide a customer-facing response for the following review: From start to finish, WidgetWorld delivers exceptional products and service. A true partner in our success.'\n",
      "{'input': [{'data': {'type': 'human', 'content': \" You are a grader assessing whether\\n    an answer is grounded in / supported by a set of facts. Give a binary 'yes' or 'no' score to indicate\\n    whether the answer is grounded in / supported by a set of facts. Provide the binary score as a JSON with a\\n    single key 'score' and no preamble or explanation.\\n    Here are the facts:\\n    \\n ------- \\n\\n    []\\n    \\n ------- \\n\\n    Here is the answer: I don't know the specific courses that BloomTech offers.  \"}, 'type': 'human'}]}\n",
      "{'input': [{'data': {'type': 'human', 'content': \"You are an assistant for question-answering tasks.\\n    Use the following pieces of retrieved context to answer the question. If you don't know the answer, just say that you don't know.\\n    Use three sentences maximum and keep the answer concise.\\n    Question: What are the courses that BloomTech offers?\\n    Context: []\\n    Answer: assistant\"}, 'type': 'human'}]}\n",
      "{'input': [{'data': {'type': 'human', 'content': \" You are a grader assessing whether\\n    an answer is grounded in / supported by a set of facts. Give a binary 'yes' or 'no' score to indicate\\n    whether the answer is grounded in / supported by a set of facts. Provide the binary score as a JSON with a\\n    single key 'score' and no preamble or explanation.\\n    Here are the facts:\\n    \\n ------- \\n\\n    []\\n    \\n ------- \\n\\n    Here is the answer: I don't know the specific courses that BloomTech offers.  \"}, 'type': 'human'}]}\n",
      "{'input': [{'data': {'type': 'human', 'content': \"You are an assistant for question-answering tasks.\\n    Use the following pieces of retrieved context to answer the question. If you don't know the answer, just say that you don't know.\\n    Use three sentences maximum and keep the answer concise.\\n    Question: What are the courses that BloomTech offers?\\n    Context: []\\n    Answer: assistant\"}, 'type': 'human'}]}\n",
      "{'input': [{'data': {'type': 'human', 'content': \" You are a grader assessing whether\\n    an answer is grounded in / supported by a set of facts. Give a binary 'yes' or 'no' score to indicate\\n    whether the answer is grounded in / supported by a set of facts. Provide the binary score as a JSON with a\\n    single key 'score' and no preamble or explanation.\\n    Here are the facts:\\n    \\n ------- \\n\\n    []\\n    \\n ------- \\n\\n    Here is the answer: I don't know the specific courses that BloomTech offers.  \"}, 'type': 'human'}]}\n",
      "{'input': [{'data': {'type': 'human', 'content': \"You are an assistant for question-answering tasks.\\n    Use the following pieces of retrieved context to answer the question. If you don't know the answer, just say that you don't know.\\n    Use three sentences maximum and keep the answer concise.\\n    Question: What are the courses that BloomTech offers?\\n    Context: []\\n    Answer: assistant\"}, 'type': 'human'}]}\n",
      "{'input': [{'data': {'type': 'human', 'content': \" You are a grader assessing whether\\n    an answer is grounded in / supported by a set of facts. Give a binary 'yes' or 'no' score to indicate\\n    whether the answer is grounded in / supported by a set of facts. Provide the binary score as a JSON with a\\n    single key 'score' and no preamble or explanation.\\n    Here are the facts:\\n    \\n ------- \\n\\n    []\\n    \\n ------- \\n\\n    Here is the answer: I don't have the specific information on the courses that BloomTech offers.  \"}, 'type': 'human'}]}\n",
      "{'input': [{'data': {'type': 'human', 'content': \"You are an assistant for question-answering tasks.\\n    Use the following pieces of retrieved context to answer the question. If you don't know the answer, just say that you don't know.\\n    Use three sentences maximum and keep the answer concise.\\n    Question: What are the courses that BloomTech offers?\\n    Context: []\\n    Answer: assistant\"}, 'type': 'human'}]}\n",
      "{'input': [{'data': {'type': 'human', 'content': \" You are a grader assessing whether\\n    an answer is grounded in / supported by a set of facts. Give a binary 'yes' or 'no' score to indicate\\n    whether the answer is grounded in / supported by a set of facts. Provide the binary score as a JSON with a\\n    single key 'score' and no preamble or explanation.\\n    Here are the facts:\\n    \\n ------- \\n\\n    []\\n    \\n ------- \\n\\n    Here is the answer: I don't have the specific information on the courses that BloomTech offers.  \"}, 'type': 'human'}]}\n",
      "{'input': [{'data': {'type': 'human', 'content': \"You are an assistant for question-answering tasks.\\n    Use the following pieces of retrieved context to answer the question. If you don't know the answer, just say that you don't know.\\n    Use three sentences maximum and keep the answer concise.\\n    Question: What are the courses that BloomTech offers?\\n    Context: []\\n    Answer: assistant\"}, 'type': 'human'}]}\n",
      "{'input': [{'data': {'type': 'human', 'content': \" You are a grader assessing whether\\n    an answer is grounded in / supported by a set of facts. Give a binary 'yes' or 'no' score to indicate\\n    whether the answer is grounded in / supported by a set of facts. Provide the binary score as a JSON with a\\n    single key 'score' and no preamble or explanation.\\n    Here are the facts:\\n    \\n ------- \\n\\n    []\\n    \\n ------- \\n\\n    Here is the answer: I don't have the specific information on the courses that BloomTech offers.  \"}, 'type': 'human'}]}\n",
      "{'input': [{'data': {'type': 'human', 'content': \"You are an assistant for question-answering tasks.\\n    Use the following pieces of retrieved context to answer the question. If you don't know the answer, just say that you don't know.\\n    Use three sentences maximum and keep the answer concise.\\n    Question: What are the courses that BloomTech offers?\\n    Context: []\\n    Answer: assistant\"}, 'type': 'human'}]}\n",
      "{'input': [{'data': {'type': 'human', 'content': \" You are a grader assessing whether\\n    an answer is grounded in / supported by a set of facts. Give a binary 'yes' or 'no' score to indicate\\n    whether the answer is grounded in / supported by a set of facts. Provide the binary score as a JSON with a\\n    single key 'score' and no preamble or explanation.\\n    Here are the facts:\\n    \\n ------- \\n\\n    []\\n    \\n ------- \\n\\n    Here is the answer: I don't know the specific courses that BloomTech offers.  \"}, 'type': 'human'}]}\n",
      "{'input': [{'data': {'type': 'human', 'content': \"You are an assistant for question-answering tasks.\\n    Use the following pieces of retrieved context to answer the question. If you don't know the answer, just say that you don't know.\\n    Use three sentences maximum and keep the answer concise.\\n    Question: What are the courses that BloomTech offers?\\n    Context: []\\n    Answer: assistant\"}, 'type': 'human'}]}\n",
      "{'input': [{'data': {'type': 'human', 'content': \" You are a grader assessing whether\\n    an answer is grounded in / supported by a set of facts. Give a binary 'yes' or 'no' score to indicate\\n    whether the answer is grounded in / supported by a set of facts. Provide the binary score as a JSON with a\\n    single key 'score' and no preamble or explanation.\\n    Here are the facts:\\n    \\n ------- \\n\\n    []\\n    \\n ------- \\n\\n    Here is the answer: I don't have the specific information on the courses that BloomTech offers.  \"}, 'type': 'human'}]}\n",
      "{'input': [{'data': {'type': 'human', 'content': \"You are an assistant for question-answering tasks.\\n    Use the following pieces of retrieved context to answer the question. If you don't know the answer, just say that you don't know.\\n    Use three sentences maximum and keep the answer concise.\\n    Question: What are the courses that BloomTech offers?\\n    Context: []\\n    Answer: assistant\"}, 'type': 'human'}]}\n",
      "{'input': [{'data': {'type': 'human', 'content': \" You are a grader assessing whether\\n    an answer is grounded in / supported by a set of facts. Give a binary 'yes' or 'no' score to indicate\\n    whether the answer is grounded in / supported by a set of facts. Provide the binary score as a JSON with a\\n    single key 'score' and no preamble or explanation.\\n    Here are the facts:\\n    \\n ------- \\n\\n    []\\n    \\n ------- \\n\\n    Here is the answer: I don't know the specific courses that BloomTech offers.  \"}, 'type': 'human'}]}\n",
      "{'input': [{'data': {'type': 'human', 'content': \"You are an assistant for question-answering tasks.\\n    Use the following pieces of retrieved context to answer the question. If you don't know the answer, just say that you don't know.\\n    Use three sentences maximum and keep the answer concise.\\n    Question: What are the courses that BloomTech offers?\\n    Context: []\\n    Answer: assistant\"}, 'type': 'human'}]}\n",
      "{'input': [{'data': {'type': 'human', 'content': \" You are a grader assessing whether\\n    an answer is grounded in / supported by a set of facts. Give a binary 'yes' or 'no' score to indicate\\n    whether the answer is grounded in / supported by a set of facts. Provide the binary score as a JSON with a\\n    single key 'score' and no preamble or explanation.\\n    Here are the facts:\\n    \\n ------- \\n\\n    []\\n    \\n ------- \\n\\n    Here is the answer: I don't know the specific courses that BloomTech offers.  \"}, 'type': 'human'}]}\n",
      "{'input': [{'data': {'type': 'human', 'content': \"You are an assistant for question-answering tasks.\\n    Use the following pieces of retrieved context to answer the question. If you don't know the answer, just say that you don't know.\\n    Use three sentences maximum and keep the answer concise.\\n    Question: What are the courses that BloomTech offers?\\n    Context: []\\n    Answer: assistant\"}, 'type': 'human'}]}\n",
      "{'input': [{'data': {'type': 'human', 'content': \" You are a grader assessing whether\\n    an answer is grounded in / supported by a set of facts. Give a binary 'yes' or 'no' score to indicate\\n    whether the answer is grounded in / supported by a set of facts. Provide the binary score as a JSON with a\\n    single key 'score' and no preamble or explanation.\\n    Here are the facts:\\n    \\n ------- \\n\\n    []\\n    \\n ------- \\n\\n    Here is the answer: I don't know the specific courses that BloomTech offers.  \"}, 'type': 'human'}]}\n",
      "{'input': [{'data': {'type': 'human', 'content': \"You are an assistant for question-answering tasks.\\n    Use the following pieces of retrieved context to answer the question. If you don't know the answer, just say that you don't know.\\n    Use three sentences maximum and keep the answer concise.\\n    Question: What are the courses that BloomTech offers?\\n    Context: []\\n    Answer: assistant\"}, 'type': 'human'}]}\n",
      "{'input': [{'data': {'type': 'human', 'content': \" You are a grader assessing whether\\n    an answer is grounded in / supported by a set of facts. Give a binary 'yes' or 'no' score to indicate\\n    whether the answer is grounded in / supported by a set of facts. Provide the binary score as a JSON with a\\n    single key 'score' and no preamble or explanation.\\n    Here are the facts:\\n    \\n ------- \\n\\n    []\\n    \\n ------- \\n\\n    Here is the answer: I don't know the specific courses that BloomTech offers.  \"}, 'type': 'human'}]}\n",
      "{'input': [{'data': {'type': 'human', 'content': \"You are an assistant for question-answering tasks.\\n    Use the following pieces of retrieved context to answer the question. If you don't know the answer, just say that you don't know.\\n    Use three sentences maximum and keep the answer concise.\\n    Question: What are the courses that BloomTech offers?\\n    Context: []\\n    Answer: assistant\"}, 'type': 'human'}]}\n",
      "{'input': [{'data': {'type': 'human', 'content': \" You are a grader assessing whether\\n    an answer is grounded in / supported by a set of facts. Give a binary 'yes' or 'no' score to indicate\\n    whether the answer is grounded in / supported by a set of facts. Provide the binary score as a JSON with a\\n    single key 'score' and no preamble or explanation.\\n    Here are the facts:\\n    \\n ------- \\n\\n    []\\n    \\n ------- \\n\\n    Here is the answer: I don't have the specific information on the courses that BloomTech offers.  \"}, 'type': 'human'}]}\n",
      "{'input': [{'data': {'type': 'human', 'content': \"You are an assistant for question-answering tasks.\\n    Use the following pieces of retrieved context to answer the question. If you don't know the answer, just say that you don't know.\\n    Use three sentences maximum and keep the answer concise.\\n    Question: What are the courses that BloomTech offers?\\n    Context: []\\n    Answer: assistant\"}, 'type': 'human'}]}\n",
      "{'input': [{'data': {'type': 'human', 'content': \" You are a grader assessing whether\\n    an answer is grounded in / supported by a set of facts. Give a binary 'yes' or 'no' score to indicate\\n    whether the answer is grounded in / supported by a set of facts. Provide the binary score as a JSON with a\\n    single key 'score' and no preamble or explanation.\\n    Here are the facts:\\n    \\n ------- \\n\\n    []\\n    \\n ------- \\n\\n    Here is the answer: I don't know the specific courses that BloomTech offers.  \"}, 'type': 'human'}]}\n",
      "{'input': [{'data': {'type': 'human', 'content': \"You are an assistant for question-answering tasks.\\n    Use the following pieces of retrieved context to answer the question. If you don't know the answer, just say that you don't know.\\n    Use three sentences maximum and keep the answer concise.\\n    Question: What are the courses that BloomTech offers?\\n    Context: []\\n    Answer: assistant\"}, 'type': 'human'}]}\n",
      "{'input': [{'data': {'type': 'human', 'content': \" You are a grader assessing whether\\n    an answer is grounded in / supported by a set of facts. Give a binary 'yes' or 'no' score to indicate\\n    whether the answer is grounded in / supported by a set of facts. Provide the binary score as a JSON with a\\n    single key 'score' and no preamble or explanation.\\n    Here are the facts:\\n    \\n ------- \\n\\n    []\\n    \\n ------- \\n\\n    Here is the answer: I'm sorry, but without any specific information about the courses offered by BloomTech, I am unable to provide an answer to your question.  \"}, 'type': 'human'}]}\n",
      "{'input': [{'data': {'type': 'human', 'content': \"You are an assistant for question-answering tasks.\\n    Use the following pieces of retrieved context to answer the question. If you don't know the answer, just say that you don't know.\\n    Use three sentences maximum and keep the answer concise.\\n    Question: What are the courses that BloomTech offers?\\n    Context: []\\n    Answer: assistant\"}, 'type': 'human'}]}\n",
      "{'input': [{'data': {'type': 'human', 'content': \" You are a grader assessing whether\\n    an answer is grounded in / supported by a set of facts. Give a binary 'yes' or 'no' score to indicate\\n    whether the answer is grounded in / supported by a set of facts. Provide the binary score as a JSON with a\\n    single key 'score' and no preamble or explanation.\\n    Here are the facts:\\n    \\n ------- \\n\\n    []\\n    \\n ------- \\n\\n    Here is the answer: I don't know the specific courses that BloomTech offers.  \"}, 'type': 'human'}]}\n",
      "{'input': [{'data': {'type': 'system', 'content': 'You are an expert web developer.'}, 'type': 'system'}, {'data': {'type': 'human', 'content': 'create an app directory in the root'}, 'type': 'human'}]}\n",
      "content='create an app directory in the root'\n",
      "{'input': [{'data': {'type': 'system', 'content': 'You are an expert web developer.'}, 'type': 'system'}, {'data': {'type': 'human', 'content': 'create an app directory in the root'}, 'type': 'human'}, {'data': {'id': 'run-ac7993c4-ed36-434c-aee5-cf0923722724', 'type': 'AIMessageChunk', 'content': '', 'tool_calls': [{'id': 'call_iBgFqIiO1of798bWT21FELZB', 'args': {'directory_name': 'app'}, 'name': 'create_directory_in_root'}], 'tool_call_chunks': [{'id': 'call_iBgFqIiO1of798bWT21FELZB', 'args': '{\"directory_name\":\"app\"}', 'name': 'create_directory_in_root', 'index': 0}], 'additional_kwargs': {'tool_calls': [{'id': 'call_iBgFqIiO1of798bWT21FELZB', 'type': 'function', 'index': 0, 'function': {'name': 'create_directory_in_root', 'arguments': '{\"directory_name\":\"app\"}'}}]}, 'response_metadata': {'finish_reason': 'tool_calls'}, 'invalid_tool_calls': []}, 'type': 'aichunk'}, {'data': {'type': 'tool', 'content': '/Users/ashaleshtilawat/Desktop/coder-agent/app', 'tool_call_id': 'call_iBgFqIiO1of798bWT21FELZB', 'additional_kwargs': {'name': 'create_directory_in_root'}}, 'type': 'tool'}]}\n",
      "content='create an app directory in the root'\n",
      "{'input': [{'data': {'type': 'system', 'content': 'You are an expert web developer.'}, 'type': 'system'}, {'data': {'type': 'human', 'content': 'Make a new directory at the root called app'}, 'type': 'human'}]}\n",
      "content='Make a new directory at the root called app'\n",
      "{'input': [{'data': {'type': 'system', 'content': 'You are an expert web developer.'}, 'type': 'system'}, {'data': {'type': 'human', 'content': 'Make a new directory at the root called app'}, 'type': 'human'}, {'data': {'id': 'run-7b72a190-f1ee-480d-b644-ccad4cb95607', 'type': 'AIMessageChunk', 'content': '', 'tool_calls': [{'id': 'call_npvlk0ZZ6tR86g8mUDrWvmEw', 'args': {'directory_name': 'app'}, 'name': 'create_directory_in_root'}], 'tool_call_chunks': [{'id': 'call_npvlk0ZZ6tR86g8mUDrWvmEw', 'args': '{\"directory_name\":\"app\"}', 'name': 'create_directory_in_root', 'index': 0}], 'additional_kwargs': {'tool_calls': [{'id': 'call_npvlk0ZZ6tR86g8mUDrWvmEw', 'type': 'function', 'index': 0, 'function': {'name': 'create_directory_in_root', 'arguments': '{\"directory_name\":\"app\"}'}}]}, 'response_metadata': {'finish_reason': 'tool_calls'}, 'invalid_tool_calls': []}, 'type': 'aichunk'}, {'data': {'type': 'tool', 'content': '/Users/ashaleshtilawat/Desktop/coder-agent/app', 'tool_call_id': 'call_npvlk0ZZ6tR86g8mUDrWvmEw', 'additional_kwargs': {'name': 'create_directory_in_root'}}, 'type': 'tool'}]}\n",
      "content='Make a new directory at the root called app'\n",
      "{'input': [{'data': {'type': 'system', 'content': 'You are an expert web developer.'}, 'type': 'system'}, {'data': {'type': 'human', 'content': 'Scaffold a react app using vite in the root'}, 'type': 'human'}]}\n",
      "content='Scaffold a react app using vite in the root'\n",
      "{'input': [{'data': {'type': 'system', 'content': 'You are an expert web developer.'}, 'type': 'system'}, {'data': {'type': 'human', 'content': 'Scaffold a react app using vite in the root'}, 'type': 'human'}, {'data': {'id': 'run-3175c08e-1a78-4ab8-95f4-5d610468a5a1', 'type': 'AIMessageChunk', 'content': '', 'tool_calls': [{'id': 'call_z3BZnazOQj7mjGsZZisXRYxT', 'args': {}, 'name': 'create_react_app_with_vite'}], 'tool_call_chunks': [{'id': 'call_z3BZnazOQj7mjGsZZisXRYxT', 'args': '{}', 'name': 'create_react_app_with_vite', 'index': 0}], 'additional_kwargs': {'tool_calls': [{'id': 'call_z3BZnazOQj7mjGsZZisXRYxT', 'type': 'function', 'index': 0, 'function': {'name': 'create_react_app_with_vite', 'arguments': '{}'}}]}, 'response_metadata': {'finish_reason': 'tool_calls'}, 'invalid_tool_calls': []}, 'type': 'aichunk'}, {'data': {'type': 'tool', 'content': 'null', 'tool_call_id': 'call_z3BZnazOQj7mjGsZZisXRYxT', 'additional_kwargs': {'name': 'create_react_app_with_vite'}}, 'type': 'tool'}]}\n",
      "content='Scaffold a react app using vite in the root'\n",
      "{'input': [{'data': {'type': 'system', 'content': 'You are an expert web developer.'}, 'type': 'system'}, {'data': {'type': 'human', 'content': 'Scaffold a React app inside the app directory'}, 'type': 'human'}]}\n",
      "content='Scaffold a React app inside the app directory'\n",
      "{'input': [{'data': {'type': 'system', 'content': 'You are an expert web developer.'}, 'type': 'system'}, {'data': {'type': 'human', 'content': 'Scaffold a React app inside the app directory'}, 'type': 'human'}, {'data': {'id': 'run-e206699b-8262-4d1e-8995-c6ad0f69d400', 'type': 'AIMessageChunk', 'content': '', 'tool_calls': [{'id': 'call_dCbNGrzNp8t6jJThiNIsWJPl', 'args': {'dir': 'app'}, 'name': 'create_react_app_with_vite'}], 'tool_call_chunks': [{'id': 'call_dCbNGrzNp8t6jJThiNIsWJPl', 'args': '{ \"dir\": \"app\" }', 'name': 'create_react_app_with_vite', 'index': 0}], 'additional_kwargs': {'tool_calls': [{'id': 'call_dCbNGrzNp8t6jJThiNIsWJPl', 'type': 'function', 'index': 0, 'function': {'name': 'create_react_app_with_vite', 'arguments': '{ \"dir\": \"app\" }'}}]}, 'response_metadata': {'finish_reason': 'tool_calls'}, 'invalid_tool_calls': []}, 'type': 'aichunk'}, {'data': {'type': 'tool', 'content': 'null', 'tool_call_id': 'call_dCbNGrzNp8t6jJThiNIsWJPl', 'additional_kwargs': {'name': 'create_react_app_with_vite'}}, 'type': 'tool'}]}\n",
      "content='Scaffold a React app inside the app directory'\n",
      "{'input': [{'data': {'type': 'system', 'content': 'You are an expert web developer.'}, 'type': 'system'}, {'data': {'type': 'human', 'content': 'Create an app dir at the root and scaffold a react app with vite inside'}, 'type': 'human'}]}\n",
      "content='Create an app dir at the root and scaffold a react app with vite inside'\n",
      "{'input': [{'data': {'type': 'system', 'content': 'You are an expert web developer.'}, 'type': 'system'}, {'data': {'type': 'human', 'content': 'Create an app dir at the root and scaffold a react app with vite inside'}, 'type': 'human'}, {'data': {'id': 'run-e8639941-0b6f-4fae-9d7f-443b2349d545', 'type': 'AIMessageChunk', 'content': '', 'tool_calls': [{'id': 'call_oUDkj2YgfWyWVZEnNEkG5I9s', 'args': {'directory': 'app'}, 'name': 'create_directory'}, {'id': 'call_SwXTwY7wLuvmU8SAsDmRnaxn', 'args': {'dir': 'app'}, 'name': 'create_react_app_with_vite'}], 'tool_call_chunks': [{'id': 'call_oUDkj2YgfWyWVZEnNEkG5I9s', 'args': '{\"directory\": \"app\"}', 'name': 'create_directory', 'index': 0}, {'id': 'call_SwXTwY7wLuvmU8SAsDmRnaxn', 'args': '{\"dir\": \"app\"}', 'name': 'create_react_app_with_vite', 'index': 1}], 'additional_kwargs': {'tool_calls': [{'id': 'call_oUDkj2YgfWyWVZEnNEkG5I9s', 'type': 'function', 'index': 0, 'function': {'name': 'create_directory', 'arguments': '{\"directory\": \"app\"}'}}, {'id': 'call_SwXTwY7wLuvmU8SAsDmRnaxn', 'type': 'function', 'index': 1, 'function': {'name': 'create_react_app_with_vite', 'arguments': '{\"dir\": \"app\"}'}}]}, 'response_metadata': {'finish_reason': 'tool_calls'}, 'invalid_tool_calls': []}, 'type': 'aichunk'}, {'data': {'type': 'tool', 'content': \"Directory 'app' created successfully.\", 'tool_call_id': 'call_oUDkj2YgfWyWVZEnNEkG5I9s', 'additional_kwargs': {'name': 'create_directory'}}, 'type': 'tool'}, {'data': {'type': 'tool', 'content': 'null', 'tool_call_id': 'call_SwXTwY7wLuvmU8SAsDmRnaxn', 'additional_kwargs': {'name': 'create_react_app_with_vite'}}, 'type': 'tool'}]}\n",
      "content='Create an app dir at the root and scaffold a react app with vite inside'\n",
      "{'input': [{'data': {'type': 'system', 'content': 'You are an expert web developer.'}, 'type': 'system'}, {'data': {'type': 'human', 'content': 'Create an app dir at the root and scaffold a react app with vite inside'}, 'type': 'human'}]}\n",
      "content='Create an app dir at the root and scaffold a react app with vite inside'\n",
      "{'input': [{'data': {'type': 'system', 'content': 'You are an expert web developer.'}, 'type': 'system'}, {'data': {'type': 'human', 'content': 'Create an app dir at the root and scaffold a react app with vite inside'}, 'type': 'human'}, {'data': {'id': 'run-08407fa5-d49e-449b-8564-c060d4797431', 'type': 'AIMessageChunk', 'content': '', 'tool_calls': [{'id': 'call_Cfehlvs27EcIIhfKouE2rXbp', 'args': {'dir': 'app'}, 'name': 'create_react_app_with_vite'}], 'tool_call_chunks': [{'id': 'call_Cfehlvs27EcIIhfKouE2rXbp', 'args': '{\"dir\":\"app\"}', 'name': 'create_react_app_with_vite', 'index': 0}], 'additional_kwargs': {'tool_calls': [{'id': 'call_Cfehlvs27EcIIhfKouE2rXbp', 'type': 'function', 'index': 0, 'function': {'name': 'create_react_app_with_vite', 'arguments': '{\"dir\":\"app\"}'}}]}, 'response_metadata': {'finish_reason': 'tool_calls'}, 'invalid_tool_calls': []}, 'type': 'aichunk'}, {'data': {'type': 'tool', 'content': 'null', 'tool_call_id': 'call_Cfehlvs27EcIIhfKouE2rXbp', 'additional_kwargs': {'name': 'create_react_app_with_vite'}}, 'type': 'tool'}]}\n",
      "content='Create an app dir at the root and scaffold a react app with vite inside'\n",
      "{'input': [{'data': {'type': 'system', 'content': 'You are an expert web developer.'}, 'type': 'system'}, {'data': {'type': 'human', 'content': 'make an app dir and scaffold a react app with vite inside'}, 'type': 'human'}]}\n",
      "content='make an app dir and scaffold a react app with vite inside'\n",
      "{'input': [{'data': {'type': 'system', 'content': 'You are an expert web developer.'}, 'type': 'system'}, {'data': {'type': 'human', 'content': 'make an app dir and scaffold a react app with vite inside'}, 'type': 'human'}, {'data': {'id': 'run-cc328274-3e0e-4503-98e2-b7cea013b282', 'type': 'AIMessageChunk', 'content': '', 'tool_calls': [{'id': 'call_5EZwInySuv07GFwNNQPFrG8f', 'args': {'directory': 'app'}, 'name': 'create_directory'}], 'tool_call_chunks': [{'id': 'call_5EZwInySuv07GFwNNQPFrG8f', 'args': '{\"directory\":\"app\"}', 'name': 'create_directory', 'index': 0}], 'additional_kwargs': {'tool_calls': [{'id': 'call_5EZwInySuv07GFwNNQPFrG8f', 'type': 'function', 'index': 0, 'function': {'name': 'create_directory', 'arguments': '{\"directory\":\"app\"}'}}]}, 'response_metadata': {'finish_reason': 'tool_calls'}, 'invalid_tool_calls': []}, 'type': 'aichunk'}, {'data': {'type': 'tool', 'content': \"Directory '/Users/ashaleshtilawat/app' created successfully.\", 'tool_call_id': 'call_5EZwInySuv07GFwNNQPFrG8f', 'additional_kwargs': {'name': 'create_directory'}}, 'type': 'tool'}]}\n",
      "content='make an app dir and scaffold a react app with vite inside'\n",
      "{'input': [{'data': {'type': 'system', 'content': 'You are an expert web developer.'}, 'type': 'system'}, {'data': {'type': 'human', 'content': 'make an app dir and scaffold a react app with vite inside'}, 'type': 'human'}, {'data': {'id': 'run-cc328274-3e0e-4503-98e2-b7cea013b282', 'type': 'AIMessageChunk', 'content': '', 'tool_calls': [{'id': 'call_5EZwInySuv07GFwNNQPFrG8f', 'args': {'directory': 'app'}, 'name': 'create_directory'}], 'tool_call_chunks': [{'id': 'call_5EZwInySuv07GFwNNQPFrG8f', 'args': '{\"directory\":\"app\"}', 'name': 'create_directory', 'index': 0}], 'additional_kwargs': {'tool_calls': [{'id': 'call_5EZwInySuv07GFwNNQPFrG8f', 'type': 'function', 'index': 0, 'function': {'name': 'create_directory', 'arguments': '{\"directory\":\"app\"}'}}]}, 'response_metadata': {'finish_reason': 'tool_calls'}, 'invalid_tool_calls': []}, 'type': 'aichunk'}, {'data': {'type': 'tool', 'content': \"Directory '/Users/ashaleshtilawat/app' created successfully.\", 'tool_call_id': 'call_5EZwInySuv07GFwNNQPFrG8f', 'additional_kwargs': {'name': 'create_directory'}}, 'type': 'tool'}, {'data': {'id': 'run-4a891185-3d59-4352-ae52-7b96239416ac', 'type': 'AIMessageChunk', 'content': '', 'tool_calls': [{'id': 'call_Q0g9oQeJhFRftsIqtaQ0xzPx', 'args': {'dir': 'app'}, 'name': 'create_react_app_with_vite'}], 'tool_call_chunks': [{'id': 'call_Q0g9oQeJhFRftsIqtaQ0xzPx', 'args': '{\"dir\":\"app\"}', 'name': 'create_react_app_with_vite', 'index': 0}], 'additional_kwargs': {'tool_calls': [{'id': 'call_Q0g9oQeJhFRftsIqtaQ0xzPx', 'type': 'function', 'index': 0, 'function': {'name': 'create_react_app_with_vite', 'arguments': '{\"dir\":\"app\"}'}}]}, 'response_metadata': {'finish_reason': 'tool_calls'}, 'invalid_tool_calls': []}, 'type': 'aichunk'}, {'data': {'type': 'tool', 'content': 'null', 'tool_call_id': 'call_Q0g9oQeJhFRftsIqtaQ0xzPx', 'additional_kwargs': {'name': 'create_react_app_with_vite'}}, 'type': 'tool'}]}\n",
      "content='make an app dir and scaffold a react app with vite inside'\n",
      "{'input': [{'data': {'type': 'system', 'content': 'You are an expert web developer.'}, 'type': 'system'}, {'data': {'type': 'human', 'content': 'make an app dir and scaffold a react app with vite inside'}, 'type': 'human'}]}\n",
      "content='make an app dir and scaffold a react app with vite inside'\n",
      "{'input': [{'data': {'type': 'system', 'content': 'You are an expert web developer.'}, 'type': 'system'}, {'data': {'type': 'human', 'content': 'make an app dir and scaffold a react app with vite inside'}, 'type': 'human'}, {'data': {'id': 'run-e64c2f31-2e08-4095-8d0d-d6d3c292adc9', 'type': 'AIMessageChunk', 'content': '', 'tool_calls': [{'id': 'call_oL7YhMtTI3ILpJfYct6IPr4Q', 'args': {'directory': 'app'}, 'name': 'create_directory'}], 'tool_call_chunks': [{'id': 'call_oL7YhMtTI3ILpJfYct6IPr4Q', 'args': '{\"directory\":\"app\"}', 'name': 'create_directory', 'index': 0}], 'additional_kwargs': {'tool_calls': [{'id': 'call_oL7YhMtTI3ILpJfYct6IPr4Q', 'type': 'function', 'index': 0, 'function': {'name': 'create_directory', 'arguments': '{\"directory\":\"app\"}'}}]}, 'response_metadata': {'finish_reason': 'tool_calls'}, 'invalid_tool_calls': []}, 'type': 'aichunk'}, {'data': {'type': 'tool', 'content': \"Directory 'app' created and set as writable successfully.\", 'tool_call_id': 'call_oL7YhMtTI3ILpJfYct6IPr4Q', 'additional_kwargs': {'name': 'create_directory'}}, 'type': 'tool'}]}\n",
      "content='make an app dir and scaffold a react app with vite inside'\n",
      "{'input': [{'data': {'type': 'system', 'content': 'You are an expert web developer.'}, 'type': 'system'}, {'data': {'type': 'human', 'content': 'make an app dir and scaffold a react app with vite inside'}, 'type': 'human'}, {'data': {'id': 'run-e64c2f31-2e08-4095-8d0d-d6d3c292adc9', 'type': 'AIMessageChunk', 'content': '', 'tool_calls': [{'id': 'call_oL7YhMtTI3ILpJfYct6IPr4Q', 'args': {'directory': 'app'}, 'name': 'create_directory'}], 'tool_call_chunks': [{'id': 'call_oL7YhMtTI3ILpJfYct6IPr4Q', 'args': '{\"directory\":\"app\"}', 'name': 'create_directory', 'index': 0}], 'additional_kwargs': {'tool_calls': [{'id': 'call_oL7YhMtTI3ILpJfYct6IPr4Q', 'type': 'function', 'index': 0, 'function': {'name': 'create_directory', 'arguments': '{\"directory\":\"app\"}'}}]}, 'response_metadata': {'finish_reason': 'tool_calls'}, 'invalid_tool_calls': []}, 'type': 'aichunk'}, {'data': {'type': 'tool', 'content': \"Directory 'app' created and set as writable successfully.\", 'tool_call_id': 'call_oL7YhMtTI3ILpJfYct6IPr4Q', 'additional_kwargs': {'name': 'create_directory'}}, 'type': 'tool'}, {'data': {'id': 'run-e09c8263-0148-48af-ba6e-a840d8d0801a', 'type': 'AIMessageChunk', 'content': '', 'tool_calls': [{'id': 'call_L4dDcYDS5SksRxQQ042hvrPM', 'args': {'dir': 'app'}, 'name': 'create_react_app_with_vite'}], 'tool_call_chunks': [{'id': 'call_L4dDcYDS5SksRxQQ042hvrPM', 'args': '{\"dir\":\"app\"}', 'name': 'create_react_app_with_vite', 'index': 0}], 'additional_kwargs': {'tool_calls': [{'id': 'call_L4dDcYDS5SksRxQQ042hvrPM', 'type': 'function', 'index': 0, 'function': {'name': 'create_react_app_with_vite', 'arguments': '{\"dir\":\"app\"}'}}]}, 'response_metadata': {'finish_reason': 'tool_calls'}, 'invalid_tool_calls': []}, 'type': 'aichunk'}, {'data': {'type': 'tool', 'content': 'null', 'tool_call_id': 'call_L4dDcYDS5SksRxQQ042hvrPM', 'additional_kwargs': {'name': 'create_react_app_with_vite'}}, 'type': 'tool'}]}\n",
      "content='make an app dir and scaffold a react app with vite inside'\n",
      "{'input': [{'data': {'type': 'system', 'content': 'You are an expert web developer.'}, 'type': 'system'}, {'data': {'type': 'human', 'content': 'scaffold a react app in the root'}, 'type': 'human'}]}\n",
      "content='scaffold a react app in the root'\n",
      "{'input': [{'data': {'type': 'system', 'content': 'You are an expert web developer.'}, 'type': 'system'}, {'data': {'type': 'human', 'content': 'scaffold a react app in the root'}, 'type': 'human'}, {'data': {'id': 'run-ff35edb8-eedd-4cc7-adf5-27b6a2dd8f25', 'type': 'AIMessageChunk', 'content': '', 'tool_calls': [{'id': 'call_W8MWDkR8pRE0NsEX5bCmdOne', 'args': {'dir': 'app'}, 'name': 'create_react_app_with_vite'}], 'tool_call_chunks': [{'id': 'call_W8MWDkR8pRE0NsEX5bCmdOne', 'args': '{\"dir\":\"app\"}', 'name': 'create_react_app_with_vite', 'index': 0}], 'additional_kwargs': {'tool_calls': [{'id': 'call_W8MWDkR8pRE0NsEX5bCmdOne', 'type': 'function', 'index': 0, 'function': {'name': 'create_react_app_with_vite', 'arguments': '{\"dir\":\"app\"}'}}]}, 'response_metadata': {'finish_reason': 'tool_calls'}, 'invalid_tool_calls': []}, 'type': 'aichunk'}, {'data': {'type': 'tool', 'content': 'null', 'tool_call_id': 'call_W8MWDkR8pRE0NsEX5bCmdOne', 'additional_kwargs': {'name': 'create_react_app_with_vite'}}, 'type': 'tool'}]}\n",
      "content='scaffold a react app in the root'\n",
      "{'input': [{'data': {'type': 'system', 'content': 'You are an expert web developer.'}, 'type': 'system'}, {'data': {'type': 'human', 'content': 'scaffold a react app using vite'}, 'type': 'human'}]}\n",
      "content='scaffold a react app using vite'\n",
      "{'input': [{'data': {'type': 'system', 'content': 'You are an expert web developer.'}, 'type': 'system'}, {'data': {'type': 'human', 'content': 'scaffold a react app using vite'}, 'type': 'human'}, {'data': {'id': 'run-36d976a6-742f-426d-919b-31fb0f47da70', 'type': 'AIMessageChunk', 'content': '', 'tool_calls': [{'id': 'call_9TGDcWkK3wRPdGURkAZ49h51', 'args': {}, 'name': 'create_react_app_with_vite'}], 'tool_call_chunks': [{'id': 'call_9TGDcWkK3wRPdGURkAZ49h51', 'args': '{}', 'name': 'create_react_app_with_vite', 'index': 0}], 'additional_kwargs': {'tool_calls': [{'id': 'call_9TGDcWkK3wRPdGURkAZ49h51', 'type': 'function', 'index': 0, 'function': {'name': 'create_react_app_with_vite', 'arguments': '{}'}}]}, 'response_metadata': {'finish_reason': 'tool_calls'}, 'invalid_tool_calls': []}, 'type': 'aichunk'}, {'data': {'type': 'tool', 'content': 'null', 'tool_call_id': 'call_9TGDcWkK3wRPdGURkAZ49h51', 'additional_kwargs': {'name': 'create_react_app_with_vite'}}, 'type': 'tool'}]}\n",
      "content='scaffold a react app using vite'\n",
      "{'input': [{'data': {'type': 'system', 'content': 'You are an expert web developer.'}, 'type': 'system'}, {'data': {'type': 'human', 'content': 'scaffold a react app using vite'}, 'type': 'human'}]}\n",
      "content='scaffold a react app using vite'\n",
      "{'input': [{'data': {'type': 'system', 'content': 'You are an expert web developer.'}, 'type': 'system'}, {'data': {'type': 'human', 'content': 'scaffold a react app using vite'}, 'type': 'human'}, {'data': {'id': 'run-362764b9-8c91-4c74-a772-c5beff27ea61', 'type': 'AIMessageChunk', 'content': '', 'tool_calls': [{'id': 'call_SNJd7sA4QMw4kKmtNWVIVzNz', 'args': {}, 'name': 'create_react_app_with_vite'}], 'tool_call_chunks': [{'id': 'call_SNJd7sA4QMw4kKmtNWVIVzNz', 'args': '{}', 'name': 'create_react_app_with_vite', 'index': 0}], 'additional_kwargs': {'tool_calls': [{'id': 'call_SNJd7sA4QMw4kKmtNWVIVzNz', 'type': 'function', 'index': 0, 'function': {'name': 'create_react_app_with_vite', 'arguments': '{}'}}]}, 'response_metadata': {'finish_reason': 'tool_calls'}, 'invalid_tool_calls': []}, 'type': 'aichunk'}, {'data': {'type': 'tool', 'content': 'null', 'tool_call_id': 'call_SNJd7sA4QMw4kKmtNWVIVzNz', 'additional_kwargs': {'name': 'create_react_app_with_vite'}}, 'type': 'tool'}]}\n",
      "content='scaffold a react app using vite'\n",
      "{'input': [{'data': {'type': 'system', 'content': 'You are an expert web developer.'}, 'type': 'system'}, {'data': {'type': 'human', 'content': 'Remove the template code inside App.jsx'}, 'type': 'human'}]}\n",
      "content='Remove the template code inside App.jsx'\n",
      "{'input': [{'data': {'type': 'system', 'content': 'You are an expert web developer.'}, 'type': 'system'}, {'data': {'type': 'human', 'content': 'Remove the template code inside App.jsx'}, 'type': 'human'}, {'data': {'id': 'run-a340c32b-82db-4ed0-8de6-642e779fcc43', 'type': 'AIMessageChunk', 'content': '', 'tool_calls': [{'id': 'call_iIFnsdJvC1qbX4yewwj8srEY', 'args': {'content': '', 'filename': 'App.jsx', 'directory': 'app/src'}, 'name': 'update_file'}], 'tool_call_chunks': [{'id': 'call_iIFnsdJvC1qbX4yewwj8srEY', 'args': '{\\n  \"filename\": \"App.jsx\",\\n  \"content\": \"\",\\n  \"directory\": \"app/src\"\\n}', 'name': 'update_file', 'index': 0}], 'additional_kwargs': {'tool_calls': [{'id': 'call_iIFnsdJvC1qbX4yewwj8srEY', 'type': 'function', 'index': 0, 'function': {'name': 'update_file', 'arguments': '{\\n  \"filename\": \"App.jsx\",\\n  \"content\": \"\",\\n  \"directory\": \"app/src\"\\n}'}}]}, 'response_metadata': {'finish_reason': 'tool_calls'}, 'invalid_tool_calls': []}, 'type': 'aichunk'}, {'data': {'type': 'tool', 'content': \"File 'App.jsx' not found at: '/Users/ashaleshtilawat/Desktop/coder-agent/app/src/App.jsx'.\", 'tool_call_id': 'call_iIFnsdJvC1qbX4yewwj8srEY', 'additional_kwargs': {'name': 'update_file'}}, 'type': 'tool'}]}\n",
      "content='Remove the template code inside App.jsx'\n",
      "{'input': [{'data': {'type': 'system', 'content': 'You are an expert web developer.'}, 'type': 'system'}, {'data': {'type': 'human', 'content': 'Remove the template code inside App.jsx'}, 'type': 'human'}, {'data': {'id': 'run-a340c32b-82db-4ed0-8de6-642e779fcc43', 'type': 'AIMessageChunk', 'content': '', 'tool_calls': [{'id': 'call_iIFnsdJvC1qbX4yewwj8srEY', 'args': {'content': '', 'filename': 'App.jsx', 'directory': 'app/src'}, 'name': 'update_file'}], 'tool_call_chunks': [{'id': 'call_iIFnsdJvC1qbX4yewwj8srEY', 'args': '{\\n  \"filename\": \"App.jsx\",\\n  \"content\": \"\",\\n  \"directory\": \"app/src\"\\n}', 'name': 'update_file', 'index': 0}], 'additional_kwargs': {'tool_calls': [{'id': 'call_iIFnsdJvC1qbX4yewwj8srEY', 'type': 'function', 'index': 0, 'function': {'name': 'update_file', 'arguments': '{\\n  \"filename\": \"App.jsx\",\\n  \"content\": \"\",\\n  \"directory\": \"app/src\"\\n}'}}]}, 'response_metadata': {'finish_reason': 'tool_calls'}, 'invalid_tool_calls': []}, 'type': 'aichunk'}, {'data': {'type': 'tool', 'content': \"File 'App.jsx' not found at: '/Users/ashaleshtilawat/Desktop/coder-agent/app/src/App.jsx'.\", 'tool_call_id': 'call_iIFnsdJvC1qbX4yewwj8srEY', 'additional_kwargs': {'name': 'update_file'}}, 'type': 'tool'}, {'data': {'id': 'run-8291ddc2-becf-46e4-9686-c17ec49ae704', 'type': 'AIMessageChunk', 'content': \"It seems the `App.jsx` file was not found in the `app/src` directory. Let's search for the `App.jsx` file in the project directory to locate its exact path.\", 'tool_calls': [{'id': 'call_AGTEgZ4mpMWXEhJu5UTSzFWM', 'args': {'path': 'app', 'filename': 'App.jsx'}, 'name': 'find_file'}], 'tool_call_chunks': [{'id': 'call_AGTEgZ4mpMWXEhJu5UTSzFWM', 'args': '{\"filename\":\"App.jsx\",\"path\":\"app\"}', 'name': 'find_file', 'index': 0}], 'additional_kwargs': {'tool_calls': [{'id': 'call_AGTEgZ4mpMWXEhJu5UTSzFWM', 'type': 'function', 'index': 0, 'function': {'name': 'find_file', 'arguments': '{\"filename\":\"App.jsx\",\"path\":\"app\"}'}}]}, 'response_metadata': {'finish_reason': 'tool_calls'}, 'invalid_tool_calls': []}, 'type': 'aichunk'}, {'data': {'type': 'tool', 'content': 'null', 'tool_call_id': 'call_AGTEgZ4mpMWXEhJu5UTSzFWM', 'additional_kwargs': {'name': 'find_file'}}, 'type': 'tool'}]}\n",
      "content='Remove the template code inside App.jsx'\n",
      "{'input': [{'data': {'type': 'system', 'content': 'You are an expert web developer.'}, 'type': 'system'}, {'data': {'type': 'human', 'content': 'find the app.jsx and update the template code'}, 'type': 'human'}]}\n",
      "content='find the app.jsx and update the template code'\n",
      "{'input': [{'data': {'type': 'system', 'content': 'You are an expert web developer.'}, 'type': 'system'}, {'data': {'type': 'human', 'content': 'find the app.jsx and update the template code'}, 'type': 'human'}, {'data': {'id': 'run-d5f555ba-1f0c-4d18-9acd-2c77576f5e84', 'type': 'AIMessageChunk', 'content': '', 'tool_calls': [{'id': 'call_So6Npz3Gd7DJiGlcM605rnpP', 'args': {'path': './', 'filename': 'app.jsx'}, 'name': 'find_file'}], 'tool_call_chunks': [{'id': 'call_So6Npz3Gd7DJiGlcM605rnpP', 'args': '{\"filename\":\"app.jsx\",\"path\":\"./\"}', 'name': 'find_file', 'index': 0}], 'additional_kwargs': {'tool_calls': [{'id': 'call_So6Npz3Gd7DJiGlcM605rnpP', 'type': 'function', 'index': 0, 'function': {'name': 'find_file', 'arguments': '{\"filename\":\"app.jsx\",\"path\":\"./\"}'}}]}, 'response_metadata': {'finish_reason': 'tool_calls'}, 'invalid_tool_calls': []}, 'type': 'aichunk'}, {'data': {'type': 'tool', 'content': 'null', 'tool_call_id': 'call_So6Npz3Gd7DJiGlcM605rnpP', 'additional_kwargs': {'name': 'find_file'}}, 'type': 'tool'}]}\n",
      "content='find the app.jsx and update the template code'\n"
     ]
    }
   ],
   "source": [
    "from langchain_core.messages import AIMessage, HumanMessage\n",
    "\n",
    "def convert_messages(example: schemas.Example) -> dict:\n",
    "    print(example.inputs)\n",
    "    try:\n",
    "        messages = HumanMessage(content=load.load(example.inputs)[\"input\"][1]['data']['content'])\n",
    "        message_chunk = AIMessage(content=load.load(example.outputs)[\"output\"]['data']['content'])\n",
    "        print(messages)\n",
    "        return {\"messages\": [messages] + [message_chunk]}\n",
    "    except:\n",
    "        return None\n",
    "\n",
    "messages = [\n",
    "    convert_messages(example)\n",
    "    for example in client.list_examples(dataset_name=dataset_name)\n",
    "]\n",
    "messages = [item for item in messages if item is not None]"
   ]
  },
  {
   "cell_type": "code",
   "execution_count": 39,
   "metadata": {},
   "outputs": [
    {
     "name": "stdout",
     "output_type": "stream",
     "text": [
      "[{'role': 'user', 'content': 'Provide a customer-facing response for the following review: Avoid WidgetWorld at all costs! Their widgets are cheaply made and constantly malfunction.'}, {'role': 'assistant', 'content': \"Ahoy there, matey! We be sorry to hear ye be havin' a bad experience with our widgets at WidgetWorld. We be takin' yer feedback to heart and workin' hard to improve the quality of our products. If ye be willin' to give us another chance, we be sure ye'll see the changes we be makin'. Fair winds to ye!\"}]\n"
     ]
    }
   ],
   "source": [
    "\n",
    "from langchain.adapters import openai as openai_adapter\n",
    "\n",
    "finetuning_messages = openai_adapter.convert_messages_for_finetuning(messages)\n",
    "\n",
    "print(finetuning_messages[0])"
   ]
  },
  {
   "cell_type": "code",
   "execution_count": 50,
   "metadata": {},
   "outputs": [],
   "source": [
    "import time\n",
    "import json\n",
    "import io\n",
    "\n",
    "import openai\n",
    "from openai import OpenAI\n",
    "\n",
    "openAiClient = OpenAI()\n",
    "\n",
    "my_file = io.BytesIO()\n",
    "for group in finetuning_messages:\n",
    "    if any([\"function_call\" in message for message in group]):\n",
    "        continue\n",
    "    my_file.write((json.dumps({\"messages\": group}) + \"\\n\").encode(\"utf-8\"))\n",
    "\n",
    "my_file.seek(0)\n",
    "training_file = openAiClient.files.create(file=my_file, purpose=\"fine-tune\")"
   ]
  },
  {
   "cell_type": "code",
   "execution_count": 61,
   "metadata": {},
   "outputs": [
    {
     "data": {
      "text/plain": [
       "'processed'"
      ]
     },
     "execution_count": 61,
     "metadata": {},
     "output_type": "execute_result"
    }
   ],
   "source": [
    "status = openAiClient.files.retrieve(training_file.id).status\n",
    "status"
   ]
  },
  {
   "cell_type": "code",
   "execution_count": 62,
   "metadata": {},
   "outputs": [
    {
     "name": "stdout",
     "output_type": "stream",
     "text": [
      "File file-nmtan7L8S8vfMrVWKSwJCqzO ready after 0.00 seconds.\n"
     ]
    }
   ],
   "source": [
    "start_time = time.time()\n",
    "while status != \"processed\":\n",
    "    print(f\"Status=[{status}]... {time.time() - start_time:.2f}s\", end=\"\\r\", flush=True)\n",
    "    time.sleep(5)\n",
    "    status = openai.File.retrieve(training_file.id).status\n",
    "print(f\"File {training_file.id} ready after {time.time() - start_time:.2f} seconds.\")"
   ]
  },
  {
   "cell_type": "code",
   "execution_count": 63,
   "metadata": {},
   "outputs": [
    {
     "name": "stdout",
     "output_type": "stream",
     "text": [
      "Status=[running]... 41.33s.. 20.63s\r"
     ]
    }
   ],
   "source": [
    "job = openAiClient.fine_tuning.jobs.create(\n",
    "    training_file=training_file.id,\n",
    "    model=\"gpt-3.5-turbo-0125\",\n",
    ")\n",
    "\n",
    "# It may take 10-20+ minutes to complete training.\n",
    "status = openAiClient.fine_tuning.jobs.retrieve(job.id).status\n",
    "start_time = time.time()\n",
    "while status != \"succeeded\":\n",
    "    print(f\"Status=[{status}]... {time.time() - start_time:.2f}s\", end=\"\\r\", flush=True)\n",
    "    time.sleep(5)\n",
    "    job = openAiClient.fine_tuning.jobs.retrieve(job.id)\n",
    "    status = job.status"
   ]
  },
  {
   "cell_type": "code",
   "execution_count": 126,
   "metadata": {},
   "outputs": [
    {
     "data": {
      "text/plain": [
       "'ft:gpt-3.5-turbo-0125:xevant::9Q0Hk9G4'"
      ]
     },
     "execution_count": 126,
     "metadata": {},
     "output_type": "execute_result"
    }
   ],
   "source": [
    "from langchain import chat_models, prompts\n",
    "\n",
    "model_name = job.fine_tuned_model\n",
    "model_name\n"
   ]
  },
  {
   "cell_type": "code",
   "execution_count": 128,
   "metadata": {},
   "outputs": [
    {
     "data": {
      "text/plain": [
       "AIMessage(content=\"Ahoy matey! Thank ye kindly for sharin' yer experience at Widget World. I be thrilled to hear ye had a fantastic time. Arrr, I couldn't agree more that everyone should set sail to Widget World and discover all the wonders it has to offer. Fair winds to ye!\", response_metadata={'token_usage': {'completion_tokens': 60, 'prompt_tokens': 25, 'total_tokens': 85}, 'model_name': 'ft:gpt-3.5-turbo-0125:xevant::9Q0Hk9G4', 'system_fingerprint': None, 'finish_reason': 'stop', 'logprobs': None}, id='run-bc9fee78-453b-4fb0-9232-58fb43acac3f-0')"
      ]
     },
     "execution_count": 128,
     "metadata": {},
     "output_type": "execute_result"
    }
   ],
   "source": [
    "\n",
    "from langchain.prompts.prompt import PromptTemplate\n",
    "\n",
    "model = ChatOpenAI(model=model_name)\n",
    "prompt_template = PromptTemplate(template=\"Provide a response to the following review: {review}\", input_variables=[\"review\"])\n",
    "chain = prompt_template | model\n",
    "chain.invoke({\"review\": \" Widget world was fantastic! Everyone should go.\"})"
   ]
  },
  {
   "cell_type": "markdown",
   "metadata": {},
   "source": [
    "# Creating Messages fine-tuning"
   ]
  },
  {
   "cell_type": "code",
   "execution_count": 49,
   "metadata": {},
   "outputs": [],
   "source": [
    "from langchain_openai import ChatOpenAI\n",
    "from langchain_core.prompts import ChatPromptTemplate\n",
    "from langchain_core.messages import HumanMessage, SystemMessage\n",
    "from reviews import *"
   ]
  },
  {
   "cell_type": "code",
   "execution_count": 54,
   "metadata": {},
   "outputs": [
    {
     "data": {
      "text/plain": [
       "ChatPromptValue(messages=[SystemMessage(content='You are a customer service agent that talks in a pirate voice'), HumanMessage(content='Provide a customer-facing response for the following review: {review}\\n\\nResponse: ')])"
      ]
     },
     "execution_count": 54,
     "metadata": {},
     "output_type": "execute_result"
    }
   ],
   "source": [
    "prompt = ChatPromptTemplate(tags=[\"reviews\"], messages=[\n",
    "    SystemMessage(content=\"You are a customer service agent that talks in a pirate voice\"),\n",
    "    HumanMessage(content=\"Provide a customer-facing response for the following review: {review}\\n\\nResponse: \")\n",
    "], input_variables=[\"review\"])\n",
    "chain = prompt\n",
    "chain.invoke({\"review\": \"Hello World\"})\n",
    "# for review in reviews:\n",
    "#     chain.invoke({'review': review})"
   ]
  }
 ],
 "metadata": {
  "kernelspec": {
   "display_name": "Python 3",
   "language": "python",
   "name": "python3"
  },
  "language_info": {
   "codemirror_mode": {
    "name": "ipython",
    "version": 3
   },
   "file_extension": ".py",
   "mimetype": "text/x-python",
   "name": "python",
   "nbconvert_exporter": "python",
   "pygments_lexer": "ipython3",
   "version": "3.12.2"
  }
 },
 "nbformat": 4,
 "nbformat_minor": 2
}
